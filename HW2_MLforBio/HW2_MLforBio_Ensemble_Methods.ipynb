{
  "cells": [
    {
      "cell_type": "markdown",
      "metadata": {
        "id": "jO8Bc9YcB5RB"
      },
      "source": [
        "<img src='http://www-scf.usc.edu/~ghasemig/images/sharif.png' alt=\"SUT logo\" width=200 height=200 align=left class=\"saturate\" >\n",
        "\n",
        "<br>\n",
        "<font face=\"Times New Roman\">\n",
        "<div dir=ltr align=center>\n",
        "<font color=0F5298 size=7>\n",
        "    ML for Bioinformatics <br>\n",
        "<font color=2565AE size=5>\n",
        "    Computer Engineering Department <br>\n",
        "<font color=3C99D size=5>\n",
        "    Homework 2: Practical - Random Forest and XGboost <br>\n",
        "<font color=696880 size=4>\n",
        "    Bahar Oveisgharan (bahar.oveis.2000@gmail.com) <br>\n",
        "    Ghazal Farahani (farahaniqazal@gmail.com)\n",
        "\n",
        "____\n"
      ]
    },
    {
      "cell_type": "markdown",
      "metadata": {
        "id": "U2sVgR-sB5RG"
      },
      "source": [
        "### Breasr Cancer\n",
        "Most of us know someone who struggled with breast cancer, or at least heard about the struggles facing patients who are fighting against breast cancer.The most important part of a process of clinical decision-making in patients with cancers, in general, is the accurate estimation of prognosis and survival duration. Breast cancer patients with the same stage of the disease and the same clinical characteristics can have different treatment responses and overall survival.\n",
        "In this practical assignment, you are going to train a Random Forest and XGBoost model on <code>breast_cancer.csv</code> dataset."
      ]
    },
    {
      "cell_type": "markdown",
      "metadata": {
        "id": "nBPdzweDCTgX"
      },
      "source": [
        "Import all the libraries you may need here"
      ]
    },
    {
      "cell_type": "code",
      "execution_count": null,
      "metadata": {
        "id": "cEiXTug2CXEc"
      },
      "outputs": [],
      "source": [
        "import pandas as pd\n"
      ]
    },
    {
      "cell_type": "markdown",
      "metadata": {
        "id": "1e_UXHe3B5RH"
      },
      "source": [
        "#### Loading the Data"
      ]
    },
    {
      "cell_type": "code",
      "execution_count": null,
      "metadata": {
        "id": "jaRibnlAB5RI",
        "colab": {
          "base_uri": "https://localhost:8080/",
          "height": 403
        },
        "outputId": "0b3ac39d-4c58-4605-8e7c-5e9e6afdbc45"
      },
      "outputs": [
        {
          "output_type": "execute_result",
          "data": {
            "text/plain": [
              "   Unnamed: 0  age_at_diagnosis type_of_breast_surgery  \\\n",
              "0           0             75.65             MASTECTOMY   \n",
              "1           1             43.19      BREAST CONSERVING   \n",
              "2           2             48.87             MASTECTOMY   \n",
              "3           3             47.68             MASTECTOMY   \n",
              "4           4             76.97             MASTECTOMY   \n",
              "\n",
              "                        cancer_type_detailed cellularity  chemotherapy  \\\n",
              "0           Breast Invasive Ductal Carcinoma         NaN             0   \n",
              "1           Breast Invasive Ductal Carcinoma        High             0   \n",
              "2           Breast Invasive Ductal Carcinoma        High             1   \n",
              "3  Breast Mixed Ductal and Lobular Carcinoma    Moderate             1   \n",
              "4  Breast Mixed Ductal and Lobular Carcinoma        High             1   \n",
              "\n",
              "  pam50_+_claudin-low_subtype  cohort er_status_measured_by_ihc er_status  \\\n",
              "0                 claudin-low     1.0                   Positve  Positive   \n",
              "1                        LumA     1.0                   Positve  Positive   \n",
              "2                        LumB     1.0                   Positve  Positive   \n",
              "3                        LumB     1.0                   Positve  Positive   \n",
              "4                        LumB     1.0                   Positve  Positive   \n",
              "\n",
              "   ...  lymph_nodes_examined_positive mutation_count  \\\n",
              "0  ...                           10.0       5.697687   \n",
              "1  ...                            0.0       2.000000   \n",
              "2  ...                            1.0       2.000000   \n",
              "3  ...                            3.0       1.000000   \n",
              "4  ...                            8.0       2.000000   \n",
              "\n",
              "  nottingham_prognostic_index oncotree_code  pr_status radio_therapy  \\\n",
              "0                       6.044           IDC   Negative             1   \n",
              "1                       4.020           IDC   Positive             1   \n",
              "2                       4.030           IDC   Positive             0   \n",
              "3                       4.050          MDLC   Positive             1   \n",
              "4                       6.080          MDLC   Positive             1   \n",
              "\n",
              "  3-gene_classifier_subtype tumor_size  tumor_stage  overall_survival  \n",
              "0                 ER-/HER2-       22.0          2.0                 1  \n",
              "1     ER+/HER2- High Prolif       10.0          1.0                 1  \n",
              "2                       NaN       15.0          2.0                 0  \n",
              "3                       NaN       25.0          2.0                 1  \n",
              "4     ER+/HER2- High Prolif       40.0          2.0                 0  \n",
              "\n",
              "[5 rows x 28 columns]"
            ],
            "text/html": [
              "\n",
              "  <div id=\"df-92e11585-6346-4853-855e-382163505e09\">\n",
              "    <div class=\"colab-df-container\">\n",
              "      <div>\n",
              "<style scoped>\n",
              "    .dataframe tbody tr th:only-of-type {\n",
              "        vertical-align: middle;\n",
              "    }\n",
              "\n",
              "    .dataframe tbody tr th {\n",
              "        vertical-align: top;\n",
              "    }\n",
              "\n",
              "    .dataframe thead th {\n",
              "        text-align: right;\n",
              "    }\n",
              "</style>\n",
              "<table border=\"1\" class=\"dataframe\">\n",
              "  <thead>\n",
              "    <tr style=\"text-align: right;\">\n",
              "      <th></th>\n",
              "      <th>Unnamed: 0</th>\n",
              "      <th>age_at_diagnosis</th>\n",
              "      <th>type_of_breast_surgery</th>\n",
              "      <th>cancer_type_detailed</th>\n",
              "      <th>cellularity</th>\n",
              "      <th>chemotherapy</th>\n",
              "      <th>pam50_+_claudin-low_subtype</th>\n",
              "      <th>cohort</th>\n",
              "      <th>er_status_measured_by_ihc</th>\n",
              "      <th>er_status</th>\n",
              "      <th>...</th>\n",
              "      <th>lymph_nodes_examined_positive</th>\n",
              "      <th>mutation_count</th>\n",
              "      <th>nottingham_prognostic_index</th>\n",
              "      <th>oncotree_code</th>\n",
              "      <th>pr_status</th>\n",
              "      <th>radio_therapy</th>\n",
              "      <th>3-gene_classifier_subtype</th>\n",
              "      <th>tumor_size</th>\n",
              "      <th>tumor_stage</th>\n",
              "      <th>overall_survival</th>\n",
              "    </tr>\n",
              "  </thead>\n",
              "  <tbody>\n",
              "    <tr>\n",
              "      <th>0</th>\n",
              "      <td>0</td>\n",
              "      <td>75.65</td>\n",
              "      <td>MASTECTOMY</td>\n",
              "      <td>Breast Invasive Ductal Carcinoma</td>\n",
              "      <td>NaN</td>\n",
              "      <td>0</td>\n",
              "      <td>claudin-low</td>\n",
              "      <td>1.0</td>\n",
              "      <td>Positve</td>\n",
              "      <td>Positive</td>\n",
              "      <td>...</td>\n",
              "      <td>10.0</td>\n",
              "      <td>5.697687</td>\n",
              "      <td>6.044</td>\n",
              "      <td>IDC</td>\n",
              "      <td>Negative</td>\n",
              "      <td>1</td>\n",
              "      <td>ER-/HER2-</td>\n",
              "      <td>22.0</td>\n",
              "      <td>2.0</td>\n",
              "      <td>1</td>\n",
              "    </tr>\n",
              "    <tr>\n",
              "      <th>1</th>\n",
              "      <td>1</td>\n",
              "      <td>43.19</td>\n",
              "      <td>BREAST CONSERVING</td>\n",
              "      <td>Breast Invasive Ductal Carcinoma</td>\n",
              "      <td>High</td>\n",
              "      <td>0</td>\n",
              "      <td>LumA</td>\n",
              "      <td>1.0</td>\n",
              "      <td>Positve</td>\n",
              "      <td>Positive</td>\n",
              "      <td>...</td>\n",
              "      <td>0.0</td>\n",
              "      <td>2.000000</td>\n",
              "      <td>4.020</td>\n",
              "      <td>IDC</td>\n",
              "      <td>Positive</td>\n",
              "      <td>1</td>\n",
              "      <td>ER+/HER2- High Prolif</td>\n",
              "      <td>10.0</td>\n",
              "      <td>1.0</td>\n",
              "      <td>1</td>\n",
              "    </tr>\n",
              "    <tr>\n",
              "      <th>2</th>\n",
              "      <td>2</td>\n",
              "      <td>48.87</td>\n",
              "      <td>MASTECTOMY</td>\n",
              "      <td>Breast Invasive Ductal Carcinoma</td>\n",
              "      <td>High</td>\n",
              "      <td>1</td>\n",
              "      <td>LumB</td>\n",
              "      <td>1.0</td>\n",
              "      <td>Positve</td>\n",
              "      <td>Positive</td>\n",
              "      <td>...</td>\n",
              "      <td>1.0</td>\n",
              "      <td>2.000000</td>\n",
              "      <td>4.030</td>\n",
              "      <td>IDC</td>\n",
              "      <td>Positive</td>\n",
              "      <td>0</td>\n",
              "      <td>NaN</td>\n",
              "      <td>15.0</td>\n",
              "      <td>2.0</td>\n",
              "      <td>0</td>\n",
              "    </tr>\n",
              "    <tr>\n",
              "      <th>3</th>\n",
              "      <td>3</td>\n",
              "      <td>47.68</td>\n",
              "      <td>MASTECTOMY</td>\n",
              "      <td>Breast Mixed Ductal and Lobular Carcinoma</td>\n",
              "      <td>Moderate</td>\n",
              "      <td>1</td>\n",
              "      <td>LumB</td>\n",
              "      <td>1.0</td>\n",
              "      <td>Positve</td>\n",
              "      <td>Positive</td>\n",
              "      <td>...</td>\n",
              "      <td>3.0</td>\n",
              "      <td>1.000000</td>\n",
              "      <td>4.050</td>\n",
              "      <td>MDLC</td>\n",
              "      <td>Positive</td>\n",
              "      <td>1</td>\n",
              "      <td>NaN</td>\n",
              "      <td>25.0</td>\n",
              "      <td>2.0</td>\n",
              "      <td>1</td>\n",
              "    </tr>\n",
              "    <tr>\n",
              "      <th>4</th>\n",
              "      <td>4</td>\n",
              "      <td>76.97</td>\n",
              "      <td>MASTECTOMY</td>\n",
              "      <td>Breast Mixed Ductal and Lobular Carcinoma</td>\n",
              "      <td>High</td>\n",
              "      <td>1</td>\n",
              "      <td>LumB</td>\n",
              "      <td>1.0</td>\n",
              "      <td>Positve</td>\n",
              "      <td>Positive</td>\n",
              "      <td>...</td>\n",
              "      <td>8.0</td>\n",
              "      <td>2.000000</td>\n",
              "      <td>6.080</td>\n",
              "      <td>MDLC</td>\n",
              "      <td>Positive</td>\n",
              "      <td>1</td>\n",
              "      <td>ER+/HER2- High Prolif</td>\n",
              "      <td>40.0</td>\n",
              "      <td>2.0</td>\n",
              "      <td>0</td>\n",
              "    </tr>\n",
              "  </tbody>\n",
              "</table>\n",
              "<p>5 rows × 28 columns</p>\n",
              "</div>\n",
              "      <button class=\"colab-df-convert\" onclick=\"convertToInteractive('df-92e11585-6346-4853-855e-382163505e09')\"\n",
              "              title=\"Convert this dataframe to an interactive table.\"\n",
              "              style=\"display:none;\">\n",
              "        \n",
              "  <svg xmlns=\"http://www.w3.org/2000/svg\" height=\"24px\"viewBox=\"0 0 24 24\"\n",
              "       width=\"24px\">\n",
              "    <path d=\"M0 0h24v24H0V0z\" fill=\"none\"/>\n",
              "    <path d=\"M18.56 5.44l.94 2.06.94-2.06 2.06-.94-2.06-.94-.94-2.06-.94 2.06-2.06.94zm-11 1L8.5 8.5l.94-2.06 2.06-.94-2.06-.94L8.5 2.5l-.94 2.06-2.06.94zm10 10l.94 2.06.94-2.06 2.06-.94-2.06-.94-.94-2.06-.94 2.06-2.06.94z\"/><path d=\"M17.41 7.96l-1.37-1.37c-.4-.4-.92-.59-1.43-.59-.52 0-1.04.2-1.43.59L10.3 9.45l-7.72 7.72c-.78.78-.78 2.05 0 2.83L4 21.41c.39.39.9.59 1.41.59.51 0 1.02-.2 1.41-.59l7.78-7.78 2.81-2.81c.8-.78.8-2.07 0-2.86zM5.41 20L4 18.59l7.72-7.72 1.47 1.35L5.41 20z\"/>\n",
              "  </svg>\n",
              "      </button>\n",
              "      \n",
              "  <style>\n",
              "    .colab-df-container {\n",
              "      display:flex;\n",
              "      flex-wrap:wrap;\n",
              "      gap: 12px;\n",
              "    }\n",
              "\n",
              "    .colab-df-convert {\n",
              "      background-color: #E8F0FE;\n",
              "      border: none;\n",
              "      border-radius: 50%;\n",
              "      cursor: pointer;\n",
              "      display: none;\n",
              "      fill: #1967D2;\n",
              "      height: 32px;\n",
              "      padding: 0 0 0 0;\n",
              "      width: 32px;\n",
              "    }\n",
              "\n",
              "    .colab-df-convert:hover {\n",
              "      background-color: #E2EBFA;\n",
              "      box-shadow: 0px 1px 2px rgba(60, 64, 67, 0.3), 0px 1px 3px 1px rgba(60, 64, 67, 0.15);\n",
              "      fill: #174EA6;\n",
              "    }\n",
              "\n",
              "    [theme=dark] .colab-df-convert {\n",
              "      background-color: #3B4455;\n",
              "      fill: #D2E3FC;\n",
              "    }\n",
              "\n",
              "    [theme=dark] .colab-df-convert:hover {\n",
              "      background-color: #434B5C;\n",
              "      box-shadow: 0px 1px 3px 1px rgba(0, 0, 0, 0.15);\n",
              "      filter: drop-shadow(0px 1px 2px rgba(0, 0, 0, 0.3));\n",
              "      fill: #FFFFFF;\n",
              "    }\n",
              "  </style>\n",
              "\n",
              "      <script>\n",
              "        const buttonEl =\n",
              "          document.querySelector('#df-92e11585-6346-4853-855e-382163505e09 button.colab-df-convert');\n",
              "        buttonEl.style.display =\n",
              "          google.colab.kernel.accessAllowed ? 'block' : 'none';\n",
              "\n",
              "        async function convertToInteractive(key) {\n",
              "          const element = document.querySelector('#df-92e11585-6346-4853-855e-382163505e09');\n",
              "          const dataTable =\n",
              "            await google.colab.kernel.invokeFunction('convertToInteractive',\n",
              "                                                     [key], {});\n",
              "          if (!dataTable) return;\n",
              "\n",
              "          const docLinkHtml = 'Like what you see? Visit the ' +\n",
              "            '<a target=\"_blank\" href=https://colab.research.google.com/notebooks/data_table.ipynb>data table notebook</a>'\n",
              "            + ' to learn more about interactive tables.';\n",
              "          element.innerHTML = '';\n",
              "          dataTable['output_type'] = 'display_data';\n",
              "          await google.colab.output.renderOutput(dataTable, element);\n",
              "          const docLink = document.createElement('div');\n",
              "          docLink.innerHTML = docLinkHtml;\n",
              "          element.appendChild(docLink);\n",
              "        }\n",
              "      </script>\n",
              "    </div>\n",
              "  </div>\n",
              "  "
            ]
          },
          "metadata": {},
          "execution_count": 124
        }
      ],
      "source": [
        "df = pd.read_csv('/content/breast_cancer.csv')\n",
        "\n",
        "df.head()"
      ]
    },
    {
      "cell_type": "markdown",
      "metadata": {
        "id": "5zPud3PpB5RJ"
      },
      "source": [
        "### Data Exploration\n",
        "#### Let's start off by exploring the files we just imported. it's not necessary to do any visualization just a statistical summary of the data would be enough. split your data to train and test."
      ]
    },
    {
      "cell_type": "code",
      "source": [
        "df.info()"
      ],
      "metadata": {
        "colab": {
          "base_uri": "https://localhost:8080/"
        },
        "id": "sL44fy5TSfCR",
        "outputId": "72217c16-a90a-4122-8e32-4670691fb475"
      },
      "execution_count": null,
      "outputs": [
        {
          "output_type": "stream",
          "name": "stdout",
          "text": [
            "<class 'pandas.core.frame.DataFrame'>\n",
            "RangeIndex: 1904 entries, 0 to 1903\n",
            "Data columns (total 28 columns):\n",
            " #   Column                          Non-Null Count  Dtype  \n",
            "---  ------                          --------------  -----  \n",
            " 0   Unnamed: 0                      1904 non-null   int64  \n",
            " 1   age_at_diagnosis                1904 non-null   float64\n",
            " 2   type_of_breast_surgery          1882 non-null   object \n",
            " 3   cancer_type_detailed            1889 non-null   object \n",
            " 4   cellularity                     1850 non-null   object \n",
            " 5   chemotherapy                    1904 non-null   int64  \n",
            " 6   pam50_+_claudin-low_subtype     1904 non-null   object \n",
            " 7   cohort                          1904 non-null   float64\n",
            " 8   er_status_measured_by_ihc       1874 non-null   object \n",
            " 9   er_status                       1904 non-null   object \n",
            " 10  neoplasm_histologic_grade       1904 non-null   float64\n",
            " 11  her2_status_measured_by_snp6    1904 non-null   object \n",
            " 12  her2_status                     1904 non-null   object \n",
            " 13  tumor_other_histologic_subtype  1889 non-null   object \n",
            " 14  hormone_therapy                 1904 non-null   int64  \n",
            " 15  inferred_menopausal_state       1904 non-null   object \n",
            " 16  integrative_cluster             1904 non-null   object \n",
            " 17  primary_tumor_laterality        1798 non-null   object \n",
            " 18  lymph_nodes_examined_positive   1904 non-null   float64\n",
            " 19  mutation_count                  1904 non-null   float64\n",
            " 20  nottingham_prognostic_index     1904 non-null   float64\n",
            " 21  oncotree_code                   1889 non-null   object \n",
            " 22  pr_status                       1904 non-null   object \n",
            " 23  radio_therapy                   1904 non-null   int64  \n",
            " 24  3-gene_classifier_subtype       1700 non-null   object \n",
            " 25  tumor_size                      1904 non-null   float64\n",
            " 26  tumor_stage                     1904 non-null   float64\n",
            " 27  overall_survival                1904 non-null   int64  \n",
            "dtypes: float64(8), int64(5), object(15)\n",
            "memory usage: 416.6+ KB\n"
          ]
        }
      ]
    },
    {
      "cell_type": "code",
      "execution_count": null,
      "metadata": {
        "id": "H0t8uLzpB5RK",
        "colab": {
          "base_uri": "https://localhost:8080/"
        },
        "outputId": "255eb721-9f5d-45f8-8b02-7a8e0634ca09"
      },
      "outputs": [
        {
          "output_type": "stream",
          "name": "stdout",
          "text": [
            "-----------------------------------shape of the data-----------------------------------\n",
            "(1904, 28)\n",
            "-----------------------------------describe of the data-----------------------------------\n",
            "        Unnamed: 0  age_at_diagnosis  chemotherapy       cohort  \\\n",
            "count  1904.000000       1904.000000   1904.000000  1904.000000   \n",
            "mean    951.500000         61.087054      0.207983     2.643908   \n",
            "std     549.781775         12.978711      0.405971     1.228615   \n",
            "min       0.000000         21.930000      0.000000     1.000000   \n",
            "25%     475.750000         51.375000      0.000000     1.000000   \n",
            "50%     951.500000         61.770000      0.000000     3.000000   \n",
            "75%    1427.250000         70.592500      0.000000     3.000000   \n",
            "max    1903.000000         96.290000      1.000000     5.000000   \n",
            "\n",
            "       neoplasm_histologic_grade  hormone_therapy  \\\n",
            "count                1904.000000      1904.000000   \n",
            "mean                    2.415939         0.616597   \n",
            "std                     0.638185         0.486343   \n",
            "min                     1.000000         0.000000   \n",
            "25%                     2.000000         0.000000   \n",
            "50%                     2.415939         1.000000   \n",
            "75%                     3.000000         1.000000   \n",
            "max                     3.000000         1.000000   \n",
            "\n",
            "       lymph_nodes_examined_positive  mutation_count  \\\n",
            "count                    1904.000000     1904.000000   \n",
            "mean                        2.002101        5.697687   \n",
            "std                         4.079993        4.010503   \n",
            "min                         0.000000        1.000000   \n",
            "25%                         0.000000        3.000000   \n",
            "50%                         0.000000        5.000000   \n",
            "75%                         2.000000        7.000000   \n",
            "max                        45.000000       80.000000   \n",
            "\n",
            "       nottingham_prognostic_index  radio_therapy   tumor_size  tumor_stage  \\\n",
            "count                  1904.000000    1904.000000  1904.000000  1904.000000   \n",
            "mean                      4.033019       0.597164    26.238726     1.750535   \n",
            "std                       1.144492       0.490597    15.081097     0.539889   \n",
            "min                       1.000000       0.000000     1.000000     0.000000   \n",
            "25%                       3.046000       0.000000    17.000000     1.000000   \n",
            "50%                       4.042000       1.000000    23.000000     1.750535   \n",
            "75%                       5.040250       1.000000    30.000000     2.000000   \n",
            "max                       6.360000       1.000000   182.000000     4.000000   \n",
            "\n",
            "       overall_survival  \n",
            "count       1904.000000  \n",
            "mean           0.420693  \n",
            "std            0.493800  \n",
            "min            0.000000  \n",
            "25%            0.000000  \n",
            "50%            0.000000  \n",
            "75%            1.000000  \n",
            "max            1.000000  \n",
            "-----------------------------------NaN values-----------------------------------\n",
            "Unnamed: 0                          0\n",
            "age_at_diagnosis                    0\n",
            "type_of_breast_surgery             22\n",
            "cancer_type_detailed               15\n",
            "cellularity                        54\n",
            "chemotherapy                        0\n",
            "pam50_+_claudin-low_subtype         0\n",
            "cohort                              0\n",
            "er_status_measured_by_ihc          30\n",
            "er_status                           0\n",
            "neoplasm_histologic_grade           0\n",
            "her2_status_measured_by_snp6        0\n",
            "her2_status                         0\n",
            "tumor_other_histologic_subtype     15\n",
            "hormone_therapy                     0\n",
            "inferred_menopausal_state           0\n",
            "integrative_cluster                 0\n",
            "primary_tumor_laterality          106\n",
            "lymph_nodes_examined_positive       0\n",
            "mutation_count                      0\n",
            "nottingham_prognostic_index         0\n",
            "oncotree_code                      15\n",
            "pr_status                           0\n",
            "radio_therapy                       0\n",
            "3-gene_classifier_subtype         204\n",
            "tumor_size                          0\n",
            "tumor_stage                         0\n",
            "overall_survival                    0\n",
            "dtype: int64\n",
            "-----------------------------------Cols type-----------------------------------\n",
            "Unnamed: 0                          int64\n",
            "age_at_diagnosis                  float64\n",
            "type_of_breast_surgery             object\n",
            "cancer_type_detailed               object\n",
            "cellularity                        object\n",
            "chemotherapy                        int64\n",
            "pam50_+_claudin-low_subtype        object\n",
            "cohort                            float64\n",
            "er_status_measured_by_ihc          object\n",
            "er_status                          object\n",
            "neoplasm_histologic_grade         float64\n",
            "her2_status_measured_by_snp6       object\n",
            "her2_status                        object\n",
            "tumor_other_histologic_subtype     object\n",
            "hormone_therapy                     int64\n",
            "inferred_menopausal_state          object\n",
            "integrative_cluster                object\n",
            "primary_tumor_laterality           object\n",
            "lymph_nodes_examined_positive     float64\n",
            "mutation_count                    float64\n",
            "nottingham_prognostic_index       float64\n",
            "oncotree_code                      object\n",
            "pr_status                          object\n",
            "radio_therapy                       int64\n",
            "3-gene_classifier_subtype          object\n",
            "tumor_size                        float64\n",
            "tumor_stage                       float64\n",
            "overall_survival                    int64\n",
            "dtype: object\n"
          ]
        }
      ],
      "source": [
        "print('-'*35 + 'shape of the data' + '-'*35)\n",
        "print(df.shape)\n",
        "print('-'*35 + 'describe of the data' + '-'*35)\n",
        "print(df.describe())\n",
        "print('-'*35 + 'NaN values' + '-'*35)\n",
        "print(df.isnull().sum())\n",
        "print('-'*35 + 'Cols type' + '-'*35)\n",
        "print(df.dtypes)"
      ]
    },
    {
      "cell_type": "code",
      "source": [
        "df = df.drop('Unnamed: 0', axis=1)\n",
        "df.head()"
      ],
      "metadata": {
        "colab": {
          "base_uri": "https://localhost:8080/",
          "height": 403
        },
        "id": "o0CMe9kbKznr",
        "outputId": "02570966-fcd0-46a2-b445-b6c5d3878069"
      },
      "execution_count": null,
      "outputs": [
        {
          "output_type": "execute_result",
          "data": {
            "text/plain": [
              "   age_at_diagnosis type_of_breast_surgery  \\\n",
              "0             75.65             MASTECTOMY   \n",
              "1             43.19      BREAST CONSERVING   \n",
              "2             48.87             MASTECTOMY   \n",
              "3             47.68             MASTECTOMY   \n",
              "4             76.97             MASTECTOMY   \n",
              "\n",
              "                        cancer_type_detailed cellularity  chemotherapy  \\\n",
              "0           Breast Invasive Ductal Carcinoma         NaN             0   \n",
              "1           Breast Invasive Ductal Carcinoma        High             0   \n",
              "2           Breast Invasive Ductal Carcinoma        High             1   \n",
              "3  Breast Mixed Ductal and Lobular Carcinoma    Moderate             1   \n",
              "4  Breast Mixed Ductal and Lobular Carcinoma        High             1   \n",
              "\n",
              "  pam50_+_claudin-low_subtype  cohort er_status_measured_by_ihc er_status  \\\n",
              "0                 claudin-low     1.0                   Positve  Positive   \n",
              "1                        LumA     1.0                   Positve  Positive   \n",
              "2                        LumB     1.0                   Positve  Positive   \n",
              "3                        LumB     1.0                   Positve  Positive   \n",
              "4                        LumB     1.0                   Positve  Positive   \n",
              "\n",
              "   neoplasm_histologic_grade  ... lymph_nodes_examined_positive  \\\n",
              "0                        3.0  ...                          10.0   \n",
              "1                        3.0  ...                           0.0   \n",
              "2                        2.0  ...                           1.0   \n",
              "3                        2.0  ...                           3.0   \n",
              "4                        3.0  ...                           8.0   \n",
              "\n",
              "  mutation_count nottingham_prognostic_index  oncotree_code pr_status  \\\n",
              "0       5.697687                       6.044            IDC  Negative   \n",
              "1       2.000000                       4.020            IDC  Positive   \n",
              "2       2.000000                       4.030            IDC  Positive   \n",
              "3       1.000000                       4.050           MDLC  Positive   \n",
              "4       2.000000                       6.080           MDLC  Positive   \n",
              "\n",
              "  radio_therapy 3-gene_classifier_subtype  tumor_size  tumor_stage  \\\n",
              "0             1                 ER-/HER2-        22.0          2.0   \n",
              "1             1     ER+/HER2- High Prolif        10.0          1.0   \n",
              "2             0                       NaN        15.0          2.0   \n",
              "3             1                       NaN        25.0          2.0   \n",
              "4             1     ER+/HER2- High Prolif        40.0          2.0   \n",
              "\n",
              "   overall_survival  \n",
              "0                 1  \n",
              "1                 1  \n",
              "2                 0  \n",
              "3                 1  \n",
              "4                 0  \n",
              "\n",
              "[5 rows x 27 columns]"
            ],
            "text/html": [
              "\n",
              "  <div id=\"df-4ba27881-3ca4-4824-b4a7-57283178a305\">\n",
              "    <div class=\"colab-df-container\">\n",
              "      <div>\n",
              "<style scoped>\n",
              "    .dataframe tbody tr th:only-of-type {\n",
              "        vertical-align: middle;\n",
              "    }\n",
              "\n",
              "    .dataframe tbody tr th {\n",
              "        vertical-align: top;\n",
              "    }\n",
              "\n",
              "    .dataframe thead th {\n",
              "        text-align: right;\n",
              "    }\n",
              "</style>\n",
              "<table border=\"1\" class=\"dataframe\">\n",
              "  <thead>\n",
              "    <tr style=\"text-align: right;\">\n",
              "      <th></th>\n",
              "      <th>age_at_diagnosis</th>\n",
              "      <th>type_of_breast_surgery</th>\n",
              "      <th>cancer_type_detailed</th>\n",
              "      <th>cellularity</th>\n",
              "      <th>chemotherapy</th>\n",
              "      <th>pam50_+_claudin-low_subtype</th>\n",
              "      <th>cohort</th>\n",
              "      <th>er_status_measured_by_ihc</th>\n",
              "      <th>er_status</th>\n",
              "      <th>neoplasm_histologic_grade</th>\n",
              "      <th>...</th>\n",
              "      <th>lymph_nodes_examined_positive</th>\n",
              "      <th>mutation_count</th>\n",
              "      <th>nottingham_prognostic_index</th>\n",
              "      <th>oncotree_code</th>\n",
              "      <th>pr_status</th>\n",
              "      <th>radio_therapy</th>\n",
              "      <th>3-gene_classifier_subtype</th>\n",
              "      <th>tumor_size</th>\n",
              "      <th>tumor_stage</th>\n",
              "      <th>overall_survival</th>\n",
              "    </tr>\n",
              "  </thead>\n",
              "  <tbody>\n",
              "    <tr>\n",
              "      <th>0</th>\n",
              "      <td>75.65</td>\n",
              "      <td>MASTECTOMY</td>\n",
              "      <td>Breast Invasive Ductal Carcinoma</td>\n",
              "      <td>NaN</td>\n",
              "      <td>0</td>\n",
              "      <td>claudin-low</td>\n",
              "      <td>1.0</td>\n",
              "      <td>Positve</td>\n",
              "      <td>Positive</td>\n",
              "      <td>3.0</td>\n",
              "      <td>...</td>\n",
              "      <td>10.0</td>\n",
              "      <td>5.697687</td>\n",
              "      <td>6.044</td>\n",
              "      <td>IDC</td>\n",
              "      <td>Negative</td>\n",
              "      <td>1</td>\n",
              "      <td>ER-/HER2-</td>\n",
              "      <td>22.0</td>\n",
              "      <td>2.0</td>\n",
              "      <td>1</td>\n",
              "    </tr>\n",
              "    <tr>\n",
              "      <th>1</th>\n",
              "      <td>43.19</td>\n",
              "      <td>BREAST CONSERVING</td>\n",
              "      <td>Breast Invasive Ductal Carcinoma</td>\n",
              "      <td>High</td>\n",
              "      <td>0</td>\n",
              "      <td>LumA</td>\n",
              "      <td>1.0</td>\n",
              "      <td>Positve</td>\n",
              "      <td>Positive</td>\n",
              "      <td>3.0</td>\n",
              "      <td>...</td>\n",
              "      <td>0.0</td>\n",
              "      <td>2.000000</td>\n",
              "      <td>4.020</td>\n",
              "      <td>IDC</td>\n",
              "      <td>Positive</td>\n",
              "      <td>1</td>\n",
              "      <td>ER+/HER2- High Prolif</td>\n",
              "      <td>10.0</td>\n",
              "      <td>1.0</td>\n",
              "      <td>1</td>\n",
              "    </tr>\n",
              "    <tr>\n",
              "      <th>2</th>\n",
              "      <td>48.87</td>\n",
              "      <td>MASTECTOMY</td>\n",
              "      <td>Breast Invasive Ductal Carcinoma</td>\n",
              "      <td>High</td>\n",
              "      <td>1</td>\n",
              "      <td>LumB</td>\n",
              "      <td>1.0</td>\n",
              "      <td>Positve</td>\n",
              "      <td>Positive</td>\n",
              "      <td>2.0</td>\n",
              "      <td>...</td>\n",
              "      <td>1.0</td>\n",
              "      <td>2.000000</td>\n",
              "      <td>4.030</td>\n",
              "      <td>IDC</td>\n",
              "      <td>Positive</td>\n",
              "      <td>0</td>\n",
              "      <td>NaN</td>\n",
              "      <td>15.0</td>\n",
              "      <td>2.0</td>\n",
              "      <td>0</td>\n",
              "    </tr>\n",
              "    <tr>\n",
              "      <th>3</th>\n",
              "      <td>47.68</td>\n",
              "      <td>MASTECTOMY</td>\n",
              "      <td>Breast Mixed Ductal and Lobular Carcinoma</td>\n",
              "      <td>Moderate</td>\n",
              "      <td>1</td>\n",
              "      <td>LumB</td>\n",
              "      <td>1.0</td>\n",
              "      <td>Positve</td>\n",
              "      <td>Positive</td>\n",
              "      <td>2.0</td>\n",
              "      <td>...</td>\n",
              "      <td>3.0</td>\n",
              "      <td>1.000000</td>\n",
              "      <td>4.050</td>\n",
              "      <td>MDLC</td>\n",
              "      <td>Positive</td>\n",
              "      <td>1</td>\n",
              "      <td>NaN</td>\n",
              "      <td>25.0</td>\n",
              "      <td>2.0</td>\n",
              "      <td>1</td>\n",
              "    </tr>\n",
              "    <tr>\n",
              "      <th>4</th>\n",
              "      <td>76.97</td>\n",
              "      <td>MASTECTOMY</td>\n",
              "      <td>Breast Mixed Ductal and Lobular Carcinoma</td>\n",
              "      <td>High</td>\n",
              "      <td>1</td>\n",
              "      <td>LumB</td>\n",
              "      <td>1.0</td>\n",
              "      <td>Positve</td>\n",
              "      <td>Positive</td>\n",
              "      <td>3.0</td>\n",
              "      <td>...</td>\n",
              "      <td>8.0</td>\n",
              "      <td>2.000000</td>\n",
              "      <td>6.080</td>\n",
              "      <td>MDLC</td>\n",
              "      <td>Positive</td>\n",
              "      <td>1</td>\n",
              "      <td>ER+/HER2- High Prolif</td>\n",
              "      <td>40.0</td>\n",
              "      <td>2.0</td>\n",
              "      <td>0</td>\n",
              "    </tr>\n",
              "  </tbody>\n",
              "</table>\n",
              "<p>5 rows × 27 columns</p>\n",
              "</div>\n",
              "      <button class=\"colab-df-convert\" onclick=\"convertToInteractive('df-4ba27881-3ca4-4824-b4a7-57283178a305')\"\n",
              "              title=\"Convert this dataframe to an interactive table.\"\n",
              "              style=\"display:none;\">\n",
              "        \n",
              "  <svg xmlns=\"http://www.w3.org/2000/svg\" height=\"24px\"viewBox=\"0 0 24 24\"\n",
              "       width=\"24px\">\n",
              "    <path d=\"M0 0h24v24H0V0z\" fill=\"none\"/>\n",
              "    <path d=\"M18.56 5.44l.94 2.06.94-2.06 2.06-.94-2.06-.94-.94-2.06-.94 2.06-2.06.94zm-11 1L8.5 8.5l.94-2.06 2.06-.94-2.06-.94L8.5 2.5l-.94 2.06-2.06.94zm10 10l.94 2.06.94-2.06 2.06-.94-2.06-.94-.94-2.06-.94 2.06-2.06.94z\"/><path d=\"M17.41 7.96l-1.37-1.37c-.4-.4-.92-.59-1.43-.59-.52 0-1.04.2-1.43.59L10.3 9.45l-7.72 7.72c-.78.78-.78 2.05 0 2.83L4 21.41c.39.39.9.59 1.41.59.51 0 1.02-.2 1.41-.59l7.78-7.78 2.81-2.81c.8-.78.8-2.07 0-2.86zM5.41 20L4 18.59l7.72-7.72 1.47 1.35L5.41 20z\"/>\n",
              "  </svg>\n",
              "      </button>\n",
              "      \n",
              "  <style>\n",
              "    .colab-df-container {\n",
              "      display:flex;\n",
              "      flex-wrap:wrap;\n",
              "      gap: 12px;\n",
              "    }\n",
              "\n",
              "    .colab-df-convert {\n",
              "      background-color: #E8F0FE;\n",
              "      border: none;\n",
              "      border-radius: 50%;\n",
              "      cursor: pointer;\n",
              "      display: none;\n",
              "      fill: #1967D2;\n",
              "      height: 32px;\n",
              "      padding: 0 0 0 0;\n",
              "      width: 32px;\n",
              "    }\n",
              "\n",
              "    .colab-df-convert:hover {\n",
              "      background-color: #E2EBFA;\n",
              "      box-shadow: 0px 1px 2px rgba(60, 64, 67, 0.3), 0px 1px 3px 1px rgba(60, 64, 67, 0.15);\n",
              "      fill: #174EA6;\n",
              "    }\n",
              "\n",
              "    [theme=dark] .colab-df-convert {\n",
              "      background-color: #3B4455;\n",
              "      fill: #D2E3FC;\n",
              "    }\n",
              "\n",
              "    [theme=dark] .colab-df-convert:hover {\n",
              "      background-color: #434B5C;\n",
              "      box-shadow: 0px 1px 3px 1px rgba(0, 0, 0, 0.15);\n",
              "      filter: drop-shadow(0px 1px 2px rgba(0, 0, 0, 0.3));\n",
              "      fill: #FFFFFF;\n",
              "    }\n",
              "  </style>\n",
              "\n",
              "      <script>\n",
              "        const buttonEl =\n",
              "          document.querySelector('#df-4ba27881-3ca4-4824-b4a7-57283178a305 button.colab-df-convert');\n",
              "        buttonEl.style.display =\n",
              "          google.colab.kernel.accessAllowed ? 'block' : 'none';\n",
              "\n",
              "        async function convertToInteractive(key) {\n",
              "          const element = document.querySelector('#df-4ba27881-3ca4-4824-b4a7-57283178a305');\n",
              "          const dataTable =\n",
              "            await google.colab.kernel.invokeFunction('convertToInteractive',\n",
              "                                                     [key], {});\n",
              "          if (!dataTable) return;\n",
              "\n",
              "          const docLinkHtml = 'Like what you see? Visit the ' +\n",
              "            '<a target=\"_blank\" href=https://colab.research.google.com/notebooks/data_table.ipynb>data table notebook</a>'\n",
              "            + ' to learn more about interactive tables.';\n",
              "          element.innerHTML = '';\n",
              "          dataTable['output_type'] = 'display_data';\n",
              "          await google.colab.output.renderOutput(dataTable, element);\n",
              "          const docLink = document.createElement('div');\n",
              "          docLink.innerHTML = docLinkHtml;\n",
              "          element.appendChild(docLink);\n",
              "        }\n",
              "      </script>\n",
              "    </div>\n",
              "  </div>\n",
              "  "
            ]
          },
          "metadata": {},
          "execution_count": 125
        }
      ]
    },
    {
      "cell_type": "code",
      "source": [
        "df.dropna(inplace=True)\n",
        "df.head()"
      ],
      "metadata": {
        "colab": {
          "base_uri": "https://localhost:8080/",
          "height": 403
        },
        "id": "LmJwL8NeJND5",
        "outputId": "5e26e5d1-5107-488f-98eb-99026abd1f7e"
      },
      "execution_count": null,
      "outputs": [
        {
          "output_type": "execute_result",
          "data": {
            "text/plain": [
              "   age_at_diagnosis type_of_breast_surgery  \\\n",
              "1             43.19      BREAST CONSERVING   \n",
              "4             76.97             MASTECTOMY   \n",
              "5             78.77             MASTECTOMY   \n",
              "8             86.41      BREAST CONSERVING   \n",
              "9             84.22             MASTECTOMY   \n",
              "\n",
              "                        cancer_type_detailed cellularity  chemotherapy  \\\n",
              "1           Breast Invasive Ductal Carcinoma        High             0   \n",
              "4  Breast Mixed Ductal and Lobular Carcinoma        High             1   \n",
              "5           Breast Invasive Ductal Carcinoma    Moderate             0   \n",
              "8           Breast Invasive Ductal Carcinoma    Moderate             0   \n",
              "9          Breast Invasive Lobular Carcinoma        High             0   \n",
              "\n",
              "  pam50_+_claudin-low_subtype  cohort er_status_measured_by_ihc er_status  \\\n",
              "1                        LumA     1.0                   Positve  Positive   \n",
              "4                        LumB     1.0                   Positve  Positive   \n",
              "5                        LumB     1.0                   Positve  Positive   \n",
              "8                        LumB     1.0                   Positve  Positive   \n",
              "9                        Her2     1.0                  Negative  Positive   \n",
              "\n",
              "   neoplasm_histologic_grade  ... lymph_nodes_examined_positive  \\\n",
              "1                        3.0  ...                           0.0   \n",
              "4                        3.0  ...                           8.0   \n",
              "5                        3.0  ...                           0.0   \n",
              "8                        3.0  ...                           1.0   \n",
              "9                        2.0  ...                           0.0   \n",
              "\n",
              "  mutation_count nottingham_prognostic_index  oncotree_code pr_status  \\\n",
              "1            2.0                       4.020            IDC  Positive   \n",
              "4            2.0                       6.080           MDLC  Positive   \n",
              "5            4.0                       4.062            IDC  Positive   \n",
              "8            4.0                       5.032            IDC  Negative   \n",
              "9            5.0                       3.056            ILC  Negative   \n",
              "\n",
              "  radio_therapy 3-gene_classifier_subtype  tumor_size  tumor_stage  \\\n",
              "1             1     ER+/HER2- High Prolif        10.0          1.0   \n",
              "4             1     ER+/HER2- High Prolif        40.0          2.0   \n",
              "5             1     ER+/HER2- High Prolif        31.0          4.0   \n",
              "8             1     ER+/HER2- High Prolif        16.0          2.0   \n",
              "9             0     ER+/HER2- High Prolif        28.0          2.0   \n",
              "\n",
              "   overall_survival  \n",
              "1                 1  \n",
              "4                 0  \n",
              "5                 0  \n",
              "8                 0  \n",
              "9                 0  \n",
              "\n",
              "[5 rows x 27 columns]"
            ],
            "text/html": [
              "\n",
              "  <div id=\"df-68f1cf07-edf7-4946-89fc-3df9277b765f\">\n",
              "    <div class=\"colab-df-container\">\n",
              "      <div>\n",
              "<style scoped>\n",
              "    .dataframe tbody tr th:only-of-type {\n",
              "        vertical-align: middle;\n",
              "    }\n",
              "\n",
              "    .dataframe tbody tr th {\n",
              "        vertical-align: top;\n",
              "    }\n",
              "\n",
              "    .dataframe thead th {\n",
              "        text-align: right;\n",
              "    }\n",
              "</style>\n",
              "<table border=\"1\" class=\"dataframe\">\n",
              "  <thead>\n",
              "    <tr style=\"text-align: right;\">\n",
              "      <th></th>\n",
              "      <th>age_at_diagnosis</th>\n",
              "      <th>type_of_breast_surgery</th>\n",
              "      <th>cancer_type_detailed</th>\n",
              "      <th>cellularity</th>\n",
              "      <th>chemotherapy</th>\n",
              "      <th>pam50_+_claudin-low_subtype</th>\n",
              "      <th>cohort</th>\n",
              "      <th>er_status_measured_by_ihc</th>\n",
              "      <th>er_status</th>\n",
              "      <th>neoplasm_histologic_grade</th>\n",
              "      <th>...</th>\n",
              "      <th>lymph_nodes_examined_positive</th>\n",
              "      <th>mutation_count</th>\n",
              "      <th>nottingham_prognostic_index</th>\n",
              "      <th>oncotree_code</th>\n",
              "      <th>pr_status</th>\n",
              "      <th>radio_therapy</th>\n",
              "      <th>3-gene_classifier_subtype</th>\n",
              "      <th>tumor_size</th>\n",
              "      <th>tumor_stage</th>\n",
              "      <th>overall_survival</th>\n",
              "    </tr>\n",
              "  </thead>\n",
              "  <tbody>\n",
              "    <tr>\n",
              "      <th>1</th>\n",
              "      <td>43.19</td>\n",
              "      <td>BREAST CONSERVING</td>\n",
              "      <td>Breast Invasive Ductal Carcinoma</td>\n",
              "      <td>High</td>\n",
              "      <td>0</td>\n",
              "      <td>LumA</td>\n",
              "      <td>1.0</td>\n",
              "      <td>Positve</td>\n",
              "      <td>Positive</td>\n",
              "      <td>3.0</td>\n",
              "      <td>...</td>\n",
              "      <td>0.0</td>\n",
              "      <td>2.0</td>\n",
              "      <td>4.020</td>\n",
              "      <td>IDC</td>\n",
              "      <td>Positive</td>\n",
              "      <td>1</td>\n",
              "      <td>ER+/HER2- High Prolif</td>\n",
              "      <td>10.0</td>\n",
              "      <td>1.0</td>\n",
              "      <td>1</td>\n",
              "    </tr>\n",
              "    <tr>\n",
              "      <th>4</th>\n",
              "      <td>76.97</td>\n",
              "      <td>MASTECTOMY</td>\n",
              "      <td>Breast Mixed Ductal and Lobular Carcinoma</td>\n",
              "      <td>High</td>\n",
              "      <td>1</td>\n",
              "      <td>LumB</td>\n",
              "      <td>1.0</td>\n",
              "      <td>Positve</td>\n",
              "      <td>Positive</td>\n",
              "      <td>3.0</td>\n",
              "      <td>...</td>\n",
              "      <td>8.0</td>\n",
              "      <td>2.0</td>\n",
              "      <td>6.080</td>\n",
              "      <td>MDLC</td>\n",
              "      <td>Positive</td>\n",
              "      <td>1</td>\n",
              "      <td>ER+/HER2- High Prolif</td>\n",
              "      <td>40.0</td>\n",
              "      <td>2.0</td>\n",
              "      <td>0</td>\n",
              "    </tr>\n",
              "    <tr>\n",
              "      <th>5</th>\n",
              "      <td>78.77</td>\n",
              "      <td>MASTECTOMY</td>\n",
              "      <td>Breast Invasive Ductal Carcinoma</td>\n",
              "      <td>Moderate</td>\n",
              "      <td>0</td>\n",
              "      <td>LumB</td>\n",
              "      <td>1.0</td>\n",
              "      <td>Positve</td>\n",
              "      <td>Positive</td>\n",
              "      <td>3.0</td>\n",
              "      <td>...</td>\n",
              "      <td>0.0</td>\n",
              "      <td>4.0</td>\n",
              "      <td>4.062</td>\n",
              "      <td>IDC</td>\n",
              "      <td>Positive</td>\n",
              "      <td>1</td>\n",
              "      <td>ER+/HER2- High Prolif</td>\n",
              "      <td>31.0</td>\n",
              "      <td>4.0</td>\n",
              "      <td>0</td>\n",
              "    </tr>\n",
              "    <tr>\n",
              "      <th>8</th>\n",
              "      <td>86.41</td>\n",
              "      <td>BREAST CONSERVING</td>\n",
              "      <td>Breast Invasive Ductal Carcinoma</td>\n",
              "      <td>Moderate</td>\n",
              "      <td>0</td>\n",
              "      <td>LumB</td>\n",
              "      <td>1.0</td>\n",
              "      <td>Positve</td>\n",
              "      <td>Positive</td>\n",
              "      <td>3.0</td>\n",
              "      <td>...</td>\n",
              "      <td>1.0</td>\n",
              "      <td>4.0</td>\n",
              "      <td>5.032</td>\n",
              "      <td>IDC</td>\n",
              "      <td>Negative</td>\n",
              "      <td>1</td>\n",
              "      <td>ER+/HER2- High Prolif</td>\n",
              "      <td>16.0</td>\n",
              "      <td>2.0</td>\n",
              "      <td>0</td>\n",
              "    </tr>\n",
              "    <tr>\n",
              "      <th>9</th>\n",
              "      <td>84.22</td>\n",
              "      <td>MASTECTOMY</td>\n",
              "      <td>Breast Invasive Lobular Carcinoma</td>\n",
              "      <td>High</td>\n",
              "      <td>0</td>\n",
              "      <td>Her2</td>\n",
              "      <td>1.0</td>\n",
              "      <td>Negative</td>\n",
              "      <td>Positive</td>\n",
              "      <td>2.0</td>\n",
              "      <td>...</td>\n",
              "      <td>0.0</td>\n",
              "      <td>5.0</td>\n",
              "      <td>3.056</td>\n",
              "      <td>ILC</td>\n",
              "      <td>Negative</td>\n",
              "      <td>0</td>\n",
              "      <td>ER+/HER2- High Prolif</td>\n",
              "      <td>28.0</td>\n",
              "      <td>2.0</td>\n",
              "      <td>0</td>\n",
              "    </tr>\n",
              "  </tbody>\n",
              "</table>\n",
              "<p>5 rows × 27 columns</p>\n",
              "</div>\n",
              "      <button class=\"colab-df-convert\" onclick=\"convertToInteractive('df-68f1cf07-edf7-4946-89fc-3df9277b765f')\"\n",
              "              title=\"Convert this dataframe to an interactive table.\"\n",
              "              style=\"display:none;\">\n",
              "        \n",
              "  <svg xmlns=\"http://www.w3.org/2000/svg\" height=\"24px\"viewBox=\"0 0 24 24\"\n",
              "       width=\"24px\">\n",
              "    <path d=\"M0 0h24v24H0V0z\" fill=\"none\"/>\n",
              "    <path d=\"M18.56 5.44l.94 2.06.94-2.06 2.06-.94-2.06-.94-.94-2.06-.94 2.06-2.06.94zm-11 1L8.5 8.5l.94-2.06 2.06-.94-2.06-.94L8.5 2.5l-.94 2.06-2.06.94zm10 10l.94 2.06.94-2.06 2.06-.94-2.06-.94-.94-2.06-.94 2.06-2.06.94z\"/><path d=\"M17.41 7.96l-1.37-1.37c-.4-.4-.92-.59-1.43-.59-.52 0-1.04.2-1.43.59L10.3 9.45l-7.72 7.72c-.78.78-.78 2.05 0 2.83L4 21.41c.39.39.9.59 1.41.59.51 0 1.02-.2 1.41-.59l7.78-7.78 2.81-2.81c.8-.78.8-2.07 0-2.86zM5.41 20L4 18.59l7.72-7.72 1.47 1.35L5.41 20z\"/>\n",
              "  </svg>\n",
              "      </button>\n",
              "      \n",
              "  <style>\n",
              "    .colab-df-container {\n",
              "      display:flex;\n",
              "      flex-wrap:wrap;\n",
              "      gap: 12px;\n",
              "    }\n",
              "\n",
              "    .colab-df-convert {\n",
              "      background-color: #E8F0FE;\n",
              "      border: none;\n",
              "      border-radius: 50%;\n",
              "      cursor: pointer;\n",
              "      display: none;\n",
              "      fill: #1967D2;\n",
              "      height: 32px;\n",
              "      padding: 0 0 0 0;\n",
              "      width: 32px;\n",
              "    }\n",
              "\n",
              "    .colab-df-convert:hover {\n",
              "      background-color: #E2EBFA;\n",
              "      box-shadow: 0px 1px 2px rgba(60, 64, 67, 0.3), 0px 1px 3px 1px rgba(60, 64, 67, 0.15);\n",
              "      fill: #174EA6;\n",
              "    }\n",
              "\n",
              "    [theme=dark] .colab-df-convert {\n",
              "      background-color: #3B4455;\n",
              "      fill: #D2E3FC;\n",
              "    }\n",
              "\n",
              "    [theme=dark] .colab-df-convert:hover {\n",
              "      background-color: #434B5C;\n",
              "      box-shadow: 0px 1px 3px 1px rgba(0, 0, 0, 0.15);\n",
              "      filter: drop-shadow(0px 1px 2px rgba(0, 0, 0, 0.3));\n",
              "      fill: #FFFFFF;\n",
              "    }\n",
              "  </style>\n",
              "\n",
              "      <script>\n",
              "        const buttonEl =\n",
              "          document.querySelector('#df-68f1cf07-edf7-4946-89fc-3df9277b765f button.colab-df-convert');\n",
              "        buttonEl.style.display =\n",
              "          google.colab.kernel.accessAllowed ? 'block' : 'none';\n",
              "\n",
              "        async function convertToInteractive(key) {\n",
              "          const element = document.querySelector('#df-68f1cf07-edf7-4946-89fc-3df9277b765f');\n",
              "          const dataTable =\n",
              "            await google.colab.kernel.invokeFunction('convertToInteractive',\n",
              "                                                     [key], {});\n",
              "          if (!dataTable) return;\n",
              "\n",
              "          const docLinkHtml = 'Like what you see? Visit the ' +\n",
              "            '<a target=\"_blank\" href=https://colab.research.google.com/notebooks/data_table.ipynb>data table notebook</a>'\n",
              "            + ' to learn more about interactive tables.';\n",
              "          element.innerHTML = '';\n",
              "          dataTable['output_type'] = 'display_data';\n",
              "          await google.colab.output.renderOutput(dataTable, element);\n",
              "          const docLink = document.createElement('div');\n",
              "          docLink.innerHTML = docLinkHtml;\n",
              "          element.appendChild(docLink);\n",
              "        }\n",
              "      </script>\n",
              "    </div>\n",
              "  </div>\n",
              "  "
            ]
          },
          "metadata": {},
          "execution_count": 126
        }
      ]
    },
    {
      "cell_type": "code",
      "source": [
        "y = df.overall_survival\n",
        "X = df.drop('overall_survival', axis=1)\n",
        "\n",
        "from sklearn.model_selection import train_test_split\n",
        "X_train, X_test, y_train, y_test = train_test_split(X, y, test_size = 0.35, random_state = 1)"
      ],
      "metadata": {
        "id": "BNMaoNZ5Nf2b"
      },
      "execution_count": null,
      "outputs": []
    },
    {
      "cell_type": "markdown",
      "metadata": {
        "id": "DE7hEApWB5RK"
      },
      "source": [
        "### Data Preparation\n",
        "#### Creating two custom transformers to put on our pipeline:\n",
        "* To split the data into categorical and numerical features and\n",
        "* To preprocess the categorical features.\n",
        "* Create the X feature matrix and the y target vector.\n",
        "* split the data."
      ]
    },
    {
      "cell_type": "code",
      "execution_count": null,
      "metadata": {
        "id": "2e66ULhnB5RK",
        "colab": {
          "base_uri": "https://localhost:8080/"
        },
        "outputId": "d6ce9be2-5905-4dd0-9de3-d4a1b9c052dc"
      },
      "outputs": [
        {
          "output_type": "execute_result",
          "data": {
            "text/plain": [
              "['type_of_breast_surgery',\n",
              " 'cancer_type_detailed',\n",
              " 'cellularity',\n",
              " 'pam50_+_claudin-low_subtype',\n",
              " 'er_status_measured_by_ihc',\n",
              " 'er_status',\n",
              " 'her2_status_measured_by_snp6',\n",
              " 'her2_status',\n",
              " 'tumor_other_histologic_subtype',\n",
              " 'inferred_menopausal_state',\n",
              " 'integrative_cluster',\n",
              " 'primary_tumor_laterality',\n",
              " 'oncotree_code',\n",
              " 'pr_status',\n",
              " '3-gene_classifier_subtype']"
            ]
          },
          "metadata": {},
          "execution_count": 128
        }
      ],
      "source": [
        "numerical_features = list(df.select_dtypes(include=['float64', 'int64']).columns)\n",
        "categorical_features = list(df.select_dtypes(include=['object']).columns)\n",
        "categorical_features"
      ]
    },
    {
      "cell_type": "code",
      "source": [
        "from sklearn.preprocessing import OrdinalEncoder\n",
        "\n",
        "df[categorical_features] = OrdinalEncoder().fit_transform(df[categorical_features])\n",
        "\n",
        "df.head()"
      ],
      "metadata": {
        "colab": {
          "base_uri": "https://localhost:8080/",
          "height": 317
        },
        "id": "dgx7UKN4SIAT",
        "outputId": "92aa13a2-cc18-4be4-f45c-20842b031fcd"
      },
      "execution_count": null,
      "outputs": [
        {
          "output_type": "execute_result",
          "data": {
            "text/plain": [
              "   age_at_diagnosis  type_of_breast_surgery  cancer_type_detailed  \\\n",
              "1             43.19                     0.0                   1.0   \n",
              "4             76.97                     1.0                   4.0   \n",
              "5             78.77                     1.0                   1.0   \n",
              "8             86.41                     0.0                   1.0   \n",
              "9             84.22                     1.0                   2.0   \n",
              "\n",
              "   cellularity  chemotherapy  pam50_+_claudin-low_subtype  cohort  \\\n",
              "1          0.0             0                          2.0     1.0   \n",
              "4          0.0             1                          3.0     1.0   \n",
              "5          2.0             0                          3.0     1.0   \n",
              "8          2.0             0                          3.0     1.0   \n",
              "9          0.0             0                          1.0     1.0   \n",
              "\n",
              "   er_status_measured_by_ihc  er_status  neoplasm_histologic_grade  ...  \\\n",
              "1                        1.0        1.0                        3.0  ...   \n",
              "4                        1.0        1.0                        3.0  ...   \n",
              "5                        1.0        1.0                        3.0  ...   \n",
              "8                        1.0        1.0                        3.0  ...   \n",
              "9                        0.0        1.0                        2.0  ...   \n",
              "\n",
              "   lymph_nodes_examined_positive  mutation_count  nottingham_prognostic_index  \\\n",
              "1                            0.0             2.0                        4.020   \n",
              "4                            8.0             2.0                        6.080   \n",
              "5                            0.0             4.0                        4.062   \n",
              "8                            1.0             4.0                        5.032   \n",
              "9                            0.0             5.0                        3.056   \n",
              "\n",
              "   oncotree_code  pr_status  radio_therapy  3-gene_classifier_subtype  \\\n",
              "1            1.0        1.0              1                        0.0   \n",
              "4            4.0        1.0              1                        0.0   \n",
              "5            1.0        1.0              1                        0.0   \n",
              "8            1.0        0.0              1                        0.0   \n",
              "9            2.0        0.0              0                        0.0   \n",
              "\n",
              "   tumor_size  tumor_stage  overall_survival  \n",
              "1        10.0          1.0                 1  \n",
              "4        40.0          2.0                 0  \n",
              "5        31.0          4.0                 0  \n",
              "8        16.0          2.0                 0  \n",
              "9        28.0          2.0                 0  \n",
              "\n",
              "[5 rows x 27 columns]"
            ],
            "text/html": [
              "\n",
              "  <div id=\"df-c5649c97-d3dc-405f-9c29-6326c4349cc1\">\n",
              "    <div class=\"colab-df-container\">\n",
              "      <div>\n",
              "<style scoped>\n",
              "    .dataframe tbody tr th:only-of-type {\n",
              "        vertical-align: middle;\n",
              "    }\n",
              "\n",
              "    .dataframe tbody tr th {\n",
              "        vertical-align: top;\n",
              "    }\n",
              "\n",
              "    .dataframe thead th {\n",
              "        text-align: right;\n",
              "    }\n",
              "</style>\n",
              "<table border=\"1\" class=\"dataframe\">\n",
              "  <thead>\n",
              "    <tr style=\"text-align: right;\">\n",
              "      <th></th>\n",
              "      <th>age_at_diagnosis</th>\n",
              "      <th>type_of_breast_surgery</th>\n",
              "      <th>cancer_type_detailed</th>\n",
              "      <th>cellularity</th>\n",
              "      <th>chemotherapy</th>\n",
              "      <th>pam50_+_claudin-low_subtype</th>\n",
              "      <th>cohort</th>\n",
              "      <th>er_status_measured_by_ihc</th>\n",
              "      <th>er_status</th>\n",
              "      <th>neoplasm_histologic_grade</th>\n",
              "      <th>...</th>\n",
              "      <th>lymph_nodes_examined_positive</th>\n",
              "      <th>mutation_count</th>\n",
              "      <th>nottingham_prognostic_index</th>\n",
              "      <th>oncotree_code</th>\n",
              "      <th>pr_status</th>\n",
              "      <th>radio_therapy</th>\n",
              "      <th>3-gene_classifier_subtype</th>\n",
              "      <th>tumor_size</th>\n",
              "      <th>tumor_stage</th>\n",
              "      <th>overall_survival</th>\n",
              "    </tr>\n",
              "  </thead>\n",
              "  <tbody>\n",
              "    <tr>\n",
              "      <th>1</th>\n",
              "      <td>43.19</td>\n",
              "      <td>0.0</td>\n",
              "      <td>1.0</td>\n",
              "      <td>0.0</td>\n",
              "      <td>0</td>\n",
              "      <td>2.0</td>\n",
              "      <td>1.0</td>\n",
              "      <td>1.0</td>\n",
              "      <td>1.0</td>\n",
              "      <td>3.0</td>\n",
              "      <td>...</td>\n",
              "      <td>0.0</td>\n",
              "      <td>2.0</td>\n",
              "      <td>4.020</td>\n",
              "      <td>1.0</td>\n",
              "      <td>1.0</td>\n",
              "      <td>1</td>\n",
              "      <td>0.0</td>\n",
              "      <td>10.0</td>\n",
              "      <td>1.0</td>\n",
              "      <td>1</td>\n",
              "    </tr>\n",
              "    <tr>\n",
              "      <th>4</th>\n",
              "      <td>76.97</td>\n",
              "      <td>1.0</td>\n",
              "      <td>4.0</td>\n",
              "      <td>0.0</td>\n",
              "      <td>1</td>\n",
              "      <td>3.0</td>\n",
              "      <td>1.0</td>\n",
              "      <td>1.0</td>\n",
              "      <td>1.0</td>\n",
              "      <td>3.0</td>\n",
              "      <td>...</td>\n",
              "      <td>8.0</td>\n",
              "      <td>2.0</td>\n",
              "      <td>6.080</td>\n",
              "      <td>4.0</td>\n",
              "      <td>1.0</td>\n",
              "      <td>1</td>\n",
              "      <td>0.0</td>\n",
              "      <td>40.0</td>\n",
              "      <td>2.0</td>\n",
              "      <td>0</td>\n",
              "    </tr>\n",
              "    <tr>\n",
              "      <th>5</th>\n",
              "      <td>78.77</td>\n",
              "      <td>1.0</td>\n",
              "      <td>1.0</td>\n",
              "      <td>2.0</td>\n",
              "      <td>0</td>\n",
              "      <td>3.0</td>\n",
              "      <td>1.0</td>\n",
              "      <td>1.0</td>\n",
              "      <td>1.0</td>\n",
              "      <td>3.0</td>\n",
              "      <td>...</td>\n",
              "      <td>0.0</td>\n",
              "      <td>4.0</td>\n",
              "      <td>4.062</td>\n",
              "      <td>1.0</td>\n",
              "      <td>1.0</td>\n",
              "      <td>1</td>\n",
              "      <td>0.0</td>\n",
              "      <td>31.0</td>\n",
              "      <td>4.0</td>\n",
              "      <td>0</td>\n",
              "    </tr>\n",
              "    <tr>\n",
              "      <th>8</th>\n",
              "      <td>86.41</td>\n",
              "      <td>0.0</td>\n",
              "      <td>1.0</td>\n",
              "      <td>2.0</td>\n",
              "      <td>0</td>\n",
              "      <td>3.0</td>\n",
              "      <td>1.0</td>\n",
              "      <td>1.0</td>\n",
              "      <td>1.0</td>\n",
              "      <td>3.0</td>\n",
              "      <td>...</td>\n",
              "      <td>1.0</td>\n",
              "      <td>4.0</td>\n",
              "      <td>5.032</td>\n",
              "      <td>1.0</td>\n",
              "      <td>0.0</td>\n",
              "      <td>1</td>\n",
              "      <td>0.0</td>\n",
              "      <td>16.0</td>\n",
              "      <td>2.0</td>\n",
              "      <td>0</td>\n",
              "    </tr>\n",
              "    <tr>\n",
              "      <th>9</th>\n",
              "      <td>84.22</td>\n",
              "      <td>1.0</td>\n",
              "      <td>2.0</td>\n",
              "      <td>0.0</td>\n",
              "      <td>0</td>\n",
              "      <td>1.0</td>\n",
              "      <td>1.0</td>\n",
              "      <td>0.0</td>\n",
              "      <td>1.0</td>\n",
              "      <td>2.0</td>\n",
              "      <td>...</td>\n",
              "      <td>0.0</td>\n",
              "      <td>5.0</td>\n",
              "      <td>3.056</td>\n",
              "      <td>2.0</td>\n",
              "      <td>0.0</td>\n",
              "      <td>0</td>\n",
              "      <td>0.0</td>\n",
              "      <td>28.0</td>\n",
              "      <td>2.0</td>\n",
              "      <td>0</td>\n",
              "    </tr>\n",
              "  </tbody>\n",
              "</table>\n",
              "<p>5 rows × 27 columns</p>\n",
              "</div>\n",
              "      <button class=\"colab-df-convert\" onclick=\"convertToInteractive('df-c5649c97-d3dc-405f-9c29-6326c4349cc1')\"\n",
              "              title=\"Convert this dataframe to an interactive table.\"\n",
              "              style=\"display:none;\">\n",
              "        \n",
              "  <svg xmlns=\"http://www.w3.org/2000/svg\" height=\"24px\"viewBox=\"0 0 24 24\"\n",
              "       width=\"24px\">\n",
              "    <path d=\"M0 0h24v24H0V0z\" fill=\"none\"/>\n",
              "    <path d=\"M18.56 5.44l.94 2.06.94-2.06 2.06-.94-2.06-.94-.94-2.06-.94 2.06-2.06.94zm-11 1L8.5 8.5l.94-2.06 2.06-.94-2.06-.94L8.5 2.5l-.94 2.06-2.06.94zm10 10l.94 2.06.94-2.06 2.06-.94-2.06-.94-.94-2.06-.94 2.06-2.06.94z\"/><path d=\"M17.41 7.96l-1.37-1.37c-.4-.4-.92-.59-1.43-.59-.52 0-1.04.2-1.43.59L10.3 9.45l-7.72 7.72c-.78.78-.78 2.05 0 2.83L4 21.41c.39.39.9.59 1.41.59.51 0 1.02-.2 1.41-.59l7.78-7.78 2.81-2.81c.8-.78.8-2.07 0-2.86zM5.41 20L4 18.59l7.72-7.72 1.47 1.35L5.41 20z\"/>\n",
              "  </svg>\n",
              "      </button>\n",
              "      \n",
              "  <style>\n",
              "    .colab-df-container {\n",
              "      display:flex;\n",
              "      flex-wrap:wrap;\n",
              "      gap: 12px;\n",
              "    }\n",
              "\n",
              "    .colab-df-convert {\n",
              "      background-color: #E8F0FE;\n",
              "      border: none;\n",
              "      border-radius: 50%;\n",
              "      cursor: pointer;\n",
              "      display: none;\n",
              "      fill: #1967D2;\n",
              "      height: 32px;\n",
              "      padding: 0 0 0 0;\n",
              "      width: 32px;\n",
              "    }\n",
              "\n",
              "    .colab-df-convert:hover {\n",
              "      background-color: #E2EBFA;\n",
              "      box-shadow: 0px 1px 2px rgba(60, 64, 67, 0.3), 0px 1px 3px 1px rgba(60, 64, 67, 0.15);\n",
              "      fill: #174EA6;\n",
              "    }\n",
              "\n",
              "    [theme=dark] .colab-df-convert {\n",
              "      background-color: #3B4455;\n",
              "      fill: #D2E3FC;\n",
              "    }\n",
              "\n",
              "    [theme=dark] .colab-df-convert:hover {\n",
              "      background-color: #434B5C;\n",
              "      box-shadow: 0px 1px 3px 1px rgba(0, 0, 0, 0.15);\n",
              "      filter: drop-shadow(0px 1px 2px rgba(0, 0, 0, 0.3));\n",
              "      fill: #FFFFFF;\n",
              "    }\n",
              "  </style>\n",
              "\n",
              "      <script>\n",
              "        const buttonEl =\n",
              "          document.querySelector('#df-c5649c97-d3dc-405f-9c29-6326c4349cc1 button.colab-df-convert');\n",
              "        buttonEl.style.display =\n",
              "          google.colab.kernel.accessAllowed ? 'block' : 'none';\n",
              "\n",
              "        async function convertToInteractive(key) {\n",
              "          const element = document.querySelector('#df-c5649c97-d3dc-405f-9c29-6326c4349cc1');\n",
              "          const dataTable =\n",
              "            await google.colab.kernel.invokeFunction('convertToInteractive',\n",
              "                                                     [key], {});\n",
              "          if (!dataTable) return;\n",
              "\n",
              "          const docLinkHtml = 'Like what you see? Visit the ' +\n",
              "            '<a target=\"_blank\" href=https://colab.research.google.com/notebooks/data_table.ipynb>data table notebook</a>'\n",
              "            + ' to learn more about interactive tables.';\n",
              "          element.innerHTML = '';\n",
              "          dataTable['output_type'] = 'display_data';\n",
              "          await google.colab.output.renderOutput(dataTable, element);\n",
              "          const docLink = document.createElement('div');\n",
              "          docLink.innerHTML = docLinkHtml;\n",
              "          element.appendChild(docLink);\n",
              "        }\n",
              "      </script>\n",
              "    </div>\n",
              "  </div>\n",
              "  "
            ]
          },
          "metadata": {},
          "execution_count": 129
        }
      ]
    },
    {
      "cell_type": "code",
      "source": [
        "from sklearn.preprocessing import StandardScaler\n",
        "from sklearn.model_selection import train_test_split\n",
        "\n",
        "y = df.overall_survival\n",
        "X = df.drop('overall_survival', axis=1)\n",
        "\n",
        "X = StandardScaler().fit_transform(X)\n",
        "X_train, X_test, y_train, y_test = train_test_split(X, y, test_size = 0.25, random_state = 1)"
      ],
      "metadata": {
        "id": "MO1OitYXTXmG"
      },
      "execution_count": null,
      "outputs": []
    },
    {
      "cell_type": "markdown",
      "metadata": {
        "id": "icoG9xBNC9Xr"
      },
      "source": [
        "# Implementing two different models"
      ]
    },
    {
      "cell_type": "markdown",
      "metadata": {
        "id": "ssH7NCsIB5RL"
      },
      "source": [
        "## Random Forest"
      ]
    },
    {
      "cell_type": "markdown",
      "metadata": {
        "id": "MP7VAAhcB5RL"
      },
      "source": [
        "### train the model"
      ]
    },
    {
      "cell_type": "code",
      "execution_count": null,
      "metadata": {
        "id": "L4KpaB4OB5RL"
      },
      "outputs": [],
      "source": [
        "from sklearn.ensemble import RandomForestClassifier\n",
        "\n",
        "RandomForest = RandomForestClassifier(n_estimators = 50, criterion = 'entropy', random_state = 1)\n",
        "RandomForest.fit(X_train, y_train)\n",
        "\n",
        "\n",
        "y_pred = RandomForest.predict(X_test)\n",
        "y_pred_train = RandomForest.predict(X_train)"
      ]
    },
    {
      "cell_type": "markdown",
      "metadata": {
        "id": "TI5qxBKQB5RM"
      },
      "source": [
        "### Model assessment\n",
        "#### Print Train Accuracy, Test Accuracy and classification Report.\n"
      ]
    },
    {
      "cell_type": "code",
      "execution_count": null,
      "metadata": {
        "id": "zGz27IJvB5RM",
        "colab": {
          "base_uri": "https://localhost:8080/"
        },
        "outputId": "dfc57455-5471-489e-a8ea-0d275813ff60"
      },
      "outputs": [
        {
          "output_type": "stream",
          "name": "stdout",
          "text": [
            "-----------------------------------train-----------------------------------\n",
            "              precision    recall  f1-score   support\n",
            "\n",
            "           0       1.00      1.00      1.00       658\n",
            "           1       1.00      1.00      1.00       482\n",
            "\n",
            "    accuracy                           1.00      1140\n",
            "   macro avg       1.00      1.00      1.00      1140\n",
            "weighted avg       1.00      1.00      1.00      1140\n",
            "\n",
            "accuracy : 1.0\n",
            "-----------------------------------test-----------------------------------\n",
            "              precision    recall  f1-score   support\n",
            "\n",
            "           0       0.80      0.72      0.76       229\n",
            "           1       0.63      0.74      0.68       151\n",
            "\n",
            "    accuracy                           0.72       380\n",
            "   macro avg       0.72      0.73      0.72       380\n",
            "weighted avg       0.74      0.72      0.73       380\n",
            "\n",
            "accuracy : 0.7236842105263158\n"
          ]
        }
      ],
      "source": [
        "from sklearn.metrics import confusion_matrix\n",
        "from sklearn.metrics import classification_report\n",
        "from sklearn.metrics import accuracy_score\n",
        "\n",
        "print('-'*35 + 'train' + '-'*35)\n",
        "print(classification_report(y_pred_train, y_train))\n",
        "print(f\"accuracy : {accuracy_score(y_pred_train, y_train)}\")\n",
        "print('-'*35 + 'test' + '-'*35)\n",
        "print(classification_report(y_pred, y_test))\n",
        "print(f\"accuracy : {accuracy_score(y_pred, y_test)}\")"
      ]
    },
    {
      "cell_type": "markdown",
      "metadata": {
        "id": "GBI9WYd-B5RM"
      },
      "source": [
        "### Hyperparameter tuning :\n",
        "#### Randomized Search Cross Validation and Grid Search Cross Validation\n",
        "report best hyperparameters in each part."
      ]
    },
    {
      "cell_type": "code",
      "execution_count": null,
      "metadata": {
        "id": "2FBIJSI-B5RM",
        "colab": {
          "base_uri": "https://localhost:8080/"
        },
        "outputId": "0cc49c7a-3245-42a7-992f-a40e56d336d2"
      },
      "outputs": [
        {
          "output_type": "stream",
          "name": "stdout",
          "text": [
            "Fitting 2 folds for each of 20 candidates, totalling 40 fits\n"
          ]
        },
        {
          "output_type": "stream",
          "name": "stderr",
          "text": [
            "/usr/local/lib/python3.10/dist-packages/sklearn/model_selection/_validation.py:378: FitFailedWarning: \n",
            "8 fits failed out of a total of 40.\n",
            "The score on these train-test partitions for these parameters will be set to nan.\n",
            "If these failures are not expected, you can try to debug them by setting error_score='raise'.\n",
            "\n",
            "Below are more details about the failures:\n",
            "--------------------------------------------------------------------------------\n",
            "8 fits failed with the following error:\n",
            "Traceback (most recent call last):\n",
            "  File \"/usr/local/lib/python3.10/dist-packages/sklearn/model_selection/_validation.py\", line 686, in _fit_and_score\n",
            "    estimator.fit(X_train, y_train, **fit_params)\n",
            "  File \"/usr/local/lib/python3.10/dist-packages/sklearn/ensemble/_forest.py\", line 340, in fit\n",
            "    self._validate_params()\n",
            "  File \"/usr/local/lib/python3.10/dist-packages/sklearn/base.py\", line 600, in _validate_params\n",
            "    validate_parameter_constraints(\n",
            "  File \"/usr/local/lib/python3.10/dist-packages/sklearn/utils/_param_validation.py\", line 97, in validate_parameter_constraints\n",
            "    raise InvalidParameterError(\n",
            "sklearn.utils._param_validation.InvalidParameterError: The 'n_estimators' parameter of RandomForestClassifier must be an int in the range [1, inf). Got 0 instead.\n",
            "\n",
            "  warnings.warn(some_fits_failed_message, FitFailedWarning)\n",
            "/usr/local/lib/python3.10/dist-packages/sklearn/model_selection/_search.py:952: UserWarning: One or more of the test scores are non-finite: [       nan 0.67368421        nan        nan 0.66578947 0.66403509\n",
            " 0.67982456 0.68245614 0.63508772 0.67368421 0.67631579 0.63070175\n",
            " 0.66491228 0.67017544 0.68421053 0.67807018 0.68157895 0.67807018\n",
            " 0.60877193        nan]\n",
            "  warnings.warn(\n"
          ]
        },
        {
          "output_type": "stream",
          "name": "stdout",
          "text": [
            "best hyperparameters in each part: {'n_estimators': 222, 'min_samples_split': 10, 'min_samples_leaf': 1, 'max_features': 'sqrt', 'max_depth': 70, 'bootstrap': False}\n"
          ]
        }
      ],
      "source": [
        "from sklearn.model_selection import RandomizedSearchCV\n",
        "import numpy as np\n",
        "\n",
        "grid_param = { 'bootstrap': [True, False],\n",
        "               'n_estimators': [int(x) for x in np.linspace(00, 2000, 10)],\n",
        "               'max_features': ['auto', 'sqrt', 'log2', None],\n",
        "               'max_depth': [int(x) for x in np.linspace(10, 110, num = 11)],\n",
        "               'min_samples_split': [2, 5, 10],\n",
        "               'min_samples_leaf': [1, 2, 4]}\n",
        "RandomForest_ht = RandomizedSearchCV(estimator = RandomForest, param_distributions = grid_param , n_iter = 20, cv = 2, verbose = 2, random_state = 42, n_jobs = -1)\n",
        "\n",
        "RandomForest_ht.fit(X_train, y_train)\n",
        "print(f'best hyperparameters in each part: {RandomForest_ht.best_params_}')"
      ]
    },
    {
      "cell_type": "code",
      "source": [
        "model2 = RandomForestClassifier(n_estimators = 222, criterion = 'entropy', min_samples_split= 10, min_samples_leaf= 1, max_features= None, max_depth= 70, bootstrap= False, random_state = 0)\n",
        "y_pred_model2 = RandomForest_ht.predict(X_test)\n",
        "\n",
        "print(classification_report(y_pred_model2, y_test))\n",
        "print(f\"accuracy : {accuracy_score(y_pred_model2, y_test)}\")"
      ],
      "metadata": {
        "colab": {
          "base_uri": "https://localhost:8080/"
        },
        "id": "Bi6UzzRH9wsj",
        "outputId": "3ec08b2f-7fb7-49f8-b048-95e7066d76b6"
      },
      "execution_count": null,
      "outputs": [
        {
          "output_type": "stream",
          "name": "stdout",
          "text": [
            "              precision    recall  f1-score   support\n",
            "\n",
            "           0       0.80      0.73      0.77       224\n",
            "           1       0.66      0.74      0.70       156\n",
            "\n",
            "    accuracy                           0.74       380\n",
            "   macro avg       0.73      0.74      0.73       380\n",
            "weighted avg       0.74      0.74      0.74       380\n",
            "\n",
            "accuracy : 0.7368421052631579\n"
          ]
        }
      ]
    },
    {
      "cell_type": "markdown",
      "metadata": {
        "id": "39cwqDhLB5RM"
      },
      "source": [
        "### Find important features with Random Forest model\n",
        "#### Visualize feature scores of the features"
      ]
    },
    {
      "cell_type": "code",
      "execution_count": null,
      "metadata": {
        "id": "9G1jOdwGB5RN",
        "colab": {
          "base_uri": "https://localhost:8080/"
        },
        "outputId": "61f800ff-bd93-40aa-f9f9-209fa3d46187"
      },
      "outputs": [
        {
          "output_type": "execute_result",
          "data": {
            "text/plain": [
              "array([0.18035213, 0.01969382, 0.01502477, 0.02707595, 0.01025541,\n",
              "       0.04280268, 0.05938637, 0.00745753, 0.00911004, 0.02879997,\n",
              "       0.02204579, 0.007684  , 0.01870687, 0.01663787, 0.01547149,\n",
              "       0.05927228, 0.02149687, 0.05235381, 0.08094995, 0.09747688,\n",
              "       0.01294155, 0.01733542, 0.01788401, 0.0313059 , 0.09670636,\n",
              "       0.0317723 ])"
            ]
          },
          "metadata": {},
          "execution_count": 135
        }
      ],
      "source": [
        "important_features = RandomForest.feature_importances_\n",
        "important_features"
      ]
    },
    {
      "cell_type": "code",
      "source": [
        "import matplotlib.pyplot as plt\n",
        "\n",
        "cols = df.columns\n",
        "featuresimportance = list(zip(cols, important_features))\n",
        "\n",
        "fig = plt.figure(figsize=(12, 8))\n",
        "\n",
        "plt.barh([x[0] for x in featuresimportance],[x[1] for x in featuresimportance], height=0.6, color = 'green')\n",
        "plt.xlabel(\"Importance\")\n",
        "plt.ylabel(\"Features(Cols)\")\n",
        "\n",
        "plt.show()"
      ],
      "metadata": {
        "colab": {
          "base_uri": "https://localhost:8080/",
          "height": 387
        },
        "id": "JCT04u6CAdqL",
        "outputId": "a3ba2549-98fe-4ae0-ba0e-738b2d56d43b"
      },
      "execution_count": null,
      "outputs": [
        {
          "output_type": "display_data",
          "data": {
            "text/plain": [
              "<Figure size 1200x800 with 1 Axes>"
            ],
            "image/png": "[encoded data removed]"
          },
          "metadata": {}
        }
      ]
    },
    {
      "cell_type": "markdown",
      "metadata": {
        "id": "DdulRxFFDfSS"
      },
      "source": [
        "### * Improve Model (Bonus)\n",
        "In this bonus part, you can add your ideas for improving your model's performance. implement it and compare the results."
      ]
    },
    {
      "cell_type": "code",
      "execution_count": null,
      "metadata": {
        "id": "DniSDV0K21Lz"
      },
      "outputs": [],
      "source": [
        "# NOW WE CAN Build the Random Forest model on selected features and drop least important features.\n",
        "\n",
        "X2 = df.drop(['er_status_measured_by_ihc', 'er_status', 'overall_survival'], axis=1)\n",
        "y2 = df['overall_survival']\n",
        "#X2 = df.drop('overall_survival', axis=1)\n",
        "\n",
        "X_train, X_test, y_train, y_test = train_test_split(X2, y2, test_size = 0.25, random_state = 1)"
      ]
    },
    {
      "cell_type": "code",
      "source": [
        "RandomForest2 = RandomForestClassifier(random_state=0)\n",
        "RandomForest2.fit(X_train, y_train)\n",
        "y_pred2 = RandomForest2.predict(X_test)\n",
        "\n",
        "print(classification_report(y_pred2, y_test))\n",
        "print(f\"accuracy : {accuracy_score(y_pred2, y_test)}\")"
      ],
      "metadata": {
        "colab": {
          "base_uri": "https://localhost:8080/"
        },
        "id": "fXbaVPAaFKrq",
        "outputId": "a3e11f2f-a69e-4534-ad7b-d22d38093eb9"
      },
      "execution_count": null,
      "outputs": [
        {
          "output_type": "stream",
          "name": "stdout",
          "text": [
            "              precision    recall  f1-score   support\n",
            "\n",
            "           0       0.82      0.72      0.77       234\n",
            "           1       0.62      0.75      0.68       146\n",
            "\n",
            "    accuracy                           0.73       380\n",
            "   macro avg       0.72      0.74      0.73       380\n",
            "weighted avg       0.75      0.73      0.73       380\n",
            "\n",
            "accuracy : 0.7315789473684211\n"
          ]
        }
      ]
    },
    {
      "cell_type": "code",
      "source": [
        "important_features = RandomForest2.feature_importances_\n",
        "\n",
        "cols = df.columns\n",
        "featuresimportance = list(zip(cols, important_features))\n",
        "\n",
        "fig = plt.figure(figsize=(12, 8))\n",
        "\n",
        "plt.barh([x[0] for x in featuresimportance],[x[1] for x in featuresimportance], height=0.6, color = 'green')\n",
        "plt.xlabel(\"Importance\")\n",
        "plt.ylabel(\"Features(Cols)\")\n",
        "\n",
        "plt.show()"
      ],
      "metadata": {
        "colab": {
          "base_uri": "https://localhost:8080/",
          "height": 387
        },
        "id": "Aj_G_fIC3l3g",
        "outputId": "30080faf-67af-46ba-e792-6a43e622bfb7"
      },
      "execution_count": null,
      "outputs": [
        {
          "output_type": "display_data",
          "data": {
            "text/plain": [
              "<Figure size 1200x800 with 1 Axes>"
            ],
            "image/png": "[encoded data removed]"
          },
          "metadata": {}
        }
      ]
    },
    {
      "cell_type": "markdown",
      "metadata": {
        "id": "IP9y4KlbB5RN"
      },
      "source": [
        "## XGBoost\n",
        "### Train the model"
      ]
    },
    {
      "cell_type": "code",
      "execution_count": null,
      "metadata": {
        "id": "zlIiW7hVB5RN"
      },
      "outputs": [],
      "source": [
        "import xgboost as xgb\n",
        "from xgboost import XGBClassifier\n",
        "\n",
        "dtrain_reg = xgb.DMatrix(X_train, y_train, enable_categorical=True)\n",
        "dtest_reg = xgb.DMatrix(X_test, y_test, enable_categorical=True)\n",
        "\n",
        "X_train, X_test, y_train, y_test = train_test_split(X, y, test_size = 0.35, random_state = 1)\n",
        "\n",
        "params = {'objective':'binary:logistic',\n",
        "            'max_depth': 4,\n",
        "            'alpha': 7.8,\n",
        "            'learning_rate': .087,\n",
        "            'n_estimators':120}\n",
        "\n",
        "my_xgboost = XGBClassifier(**params)\n",
        "my_xgboost.fit(X_train, y_train)\n",
        "\n",
        "y_pred_my_xgboost = my_xgboost.predict(X_test)\n",
        "y_pred_my_xgboost_train = my_xgboost.predict(X_train)"
      ]
    },
    {
      "cell_type": "markdown",
      "metadata": {
        "id": "PLFSUhl6B5RN"
      },
      "source": [
        "### Model assessment\n",
        "#### Print Train Accuracy, Test Accuracy and classification Report.\n",
        "\n"
      ]
    },
    {
      "cell_type": "code",
      "source": [
        "print('-'*35 + 'train' + '-'*35)\n",
        "print(classification_report(y_pred_my_xgboost_train, y_train))\n",
        "print(f\"accuracy : {accuracy_score(y_pred_my_xgboost_train, y_train)}\")\n",
        "print('-'*35 + 'test' + '-'*35)\n",
        "print(classification_report(y_pred_my_xgboost, y_test))\n",
        "print(f\"accuracy : {accuracy_score(y_pred_my_xgboost, y_test)}\")"
      ],
      "metadata": {
        "colab": {
          "base_uri": "https://localhost:8080/"
        },
        "id": "KeGl5RHIB2G_",
        "outputId": "880c90f5-f90b-4d84-cbcc-a6322b85ef63"
      },
      "execution_count": null,
      "outputs": [
        {
          "output_type": "stream",
          "name": "stdout",
          "text": [
            "-----------------------------------train-----------------------------------\n",
            "              precision    recall  f1-score   support\n",
            "\n",
            "           0       0.84      0.78      0.81       622\n",
            "           1       0.67      0.75      0.71       366\n",
            "\n",
            "    accuracy                           0.77       988\n",
            "   macro avg       0.75      0.76      0.76       988\n",
            "weighted avg       0.78      0.77      0.77       988\n",
            "\n",
            "accuracy : 0.7682186234817814\n",
            "-----------------------------------test-----------------------------------\n",
            "              precision    recall  f1-score   support\n",
            "\n",
            "           0       0.80      0.70      0.75       328\n",
            "           1       0.60      0.72      0.65       204\n",
            "\n",
            "    accuracy                           0.71       532\n",
            "   macro avg       0.70      0.71      0.70       532\n",
            "weighted avg       0.72      0.71      0.71       532\n",
            "\n",
            "accuracy : 0.7086466165413534\n"
          ]
        }
      ]
    },
    {
      "cell_type": "markdown",
      "metadata": {
        "id": "nHjv0Ud3B5RO"
      },
      "source": [
        "### Plot the results"
      ]
    },
    {
      "cell_type": "code",
      "execution_count": null,
      "metadata": {
        "id": "kghhayz8B5RO",
        "colab": {
          "base_uri": "https://localhost:8080/",
          "height": 331
        },
        "outputId": "e771586a-febc-4199-bb6e-0cf0f29e1fe0"
      },
      "outputs": [
        {
          "output_type": "display_data",
          "data": {
            "text/plain": [
              "<Figure size 400x300 with 1 Axes>"
            ],
            "image/png": "[encoded data removed]"
          },
          "metadata": {}
        }
      ],
      "source": [
        "# AUC-ROC\n",
        "\n",
        "from sklearn.metrics import roc_curve\n",
        "y_pred = my_xgboost.predict_proba(X_test)[:, 1]\n",
        "fpr, tpr, thresholds = roc_curve(y_test, y_pred, pos_label = 1)\n",
        "plt.figure(figsize=(4, 3))\n",
        "plt.plot(fpr, tpr, linewidth=1)\n",
        "plt.plot([0,1], [0,1], 'k--' )\n",
        "plt.rcParams['font.size'] = 8\n",
        "plt.title('ROC curve for \"my_xgboost\":')\n",
        "plt.xlabel('False Positive Rate')\n",
        "plt.ylabel('True Positive Rate')\n",
        "\n",
        "plt.show()"
      ]
    },
    {
      "cell_type": "markdown",
      "metadata": {
        "id": "JvzcxNzxB5RO"
      },
      "source": [
        "### Hyperparameter tuning: Grid Search and Cross validation\n",
        "* create a default XGBoost classifier.\n",
        "* create the Kfold object. You can use tratifiedKFold from sklearn.model_selection.\n",
        "* create the grid search object. You can use RandomizedSearchCV from sklearn.model_selection.\n",
        "* fit grid search."
      ]
    },
    {
      "cell_type": "code",
      "execution_count": null,
      "metadata": {
        "id": "7wZQNavnB5RO",
        "colab": {
          "base_uri": "https://localhost:8080/"
        },
        "outputId": "73be38ad-b8a4-4cc8-bafa-147e5cdb58ec"
      },
      "outputs": [
        {
          "output_type": "stream",
          "name": "stdout",
          "text": [
            "Fitting 3 folds for each of 5 candidates, totalling 15 fits\n"
          ]
        },
        {
          "output_type": "stream",
          "name": "stderr",
          "text": [
            "/usr/local/lib/python3.10/dist-packages/sklearn/model_selection/_validation.py:378: FitFailedWarning: \n",
            "3 fits failed out of a total of 15.\n",
            "The score on these train-test partitions for these parameters will be set to nan.\n",
            "If these failures are not expected, you can try to debug them by setting error_score='raise'.\n",
            "\n",
            "Below are more details about the failures:\n",
            "--------------------------------------------------------------------------------\n",
            "3 fits failed with the following error:\n",
            "Traceback (most recent call last):\n",
            "  File \"/usr/local/lib/python3.10/dist-packages/sklearn/model_selection/_validation.py\", line 686, in _fit_and_score\n",
            "    estimator.fit(X_train, y_train, **fit_params)\n",
            "  File \"/usr/local/lib/python3.10/dist-packages/xgboost/core.py\", line 620, in inner_f\n",
            "    return func(**kwargs)\n",
            "  File \"/usr/local/lib/python3.10/dist-packages/xgboost/sklearn.py\", line 1490, in fit\n",
            "    self._Booster = train(\n",
            "  File \"/usr/local/lib/python3.10/dist-packages/xgboost/core.py\", line 620, in inner_f\n",
            "    return func(**kwargs)\n",
            "  File \"/usr/local/lib/python3.10/dist-packages/xgboost/training.py\", line 185, in train\n",
            "    bst.update(dtrain, i, obj)\n",
            "  File \"/usr/local/lib/python3.10/dist-packages/xgboost/core.py\", line 1918, in update\n",
            "    _check_call(_LIB.XGBoosterUpdateOneIter(self.handle,\n",
            "  File \"/usr/local/lib/python3.10/dist-packages/xgboost/core.py\", line 279, in _check_call\n",
            "    raise XGBoostError(py_str(_LIB.XGBGetLastError()))\n",
            "xgboost.core.XGBoostError: value 2 for Parameter colsample_bytree exceed bound [0,1]\n",
            "colsample_bytree: Subsample ratio of columns, resample on each tree construction.\n",
            "\n",
            "  warnings.warn(some_fits_failed_message, FitFailedWarning)\n",
            "/usr/local/lib/python3.10/dist-packages/sklearn/model_selection/_search.py:952: UserWarning: One or more of the test scores are non-finite: [-0.56366222 -0.56078212         nan -0.5555623  -0.56185891]\n",
            "  warnings.warn(\n",
            "/usr/local/lib/python3.10/dist-packages/sklearn/model_selection/_search.py:952: UserWarning: One or more of the train scores are non-finite: [-0.34967379 -0.13439224         nan -0.47982896 -0.4010347 ]\n",
            "  warnings.warn(\n"
          ]
        },
        {
          "output_type": "stream",
          "name": "stdout",
          "text": [
            "best hyperparameters in each part: {'subsample': 0.75, 'min_child_weight': 5, 'max_depth': 2, 'learning_rate': 0.1, 'colsample_bytree': 1}\n"
          ]
        }
      ],
      "source": [
        "from sklearn.model_selection import GridSearchCV\n",
        "from sklearn.model_selection import RandomizedSearchCV\n",
        "\n",
        "hyperparameter_grid = {\"subsample\":[0.25, 0.5, 0.75, 1],\n",
        "              \"colsample_bytree\":[0.75, 1, 1.5, 2],\n",
        "              \"max_depth\":[2, 4, 8, 6],\n",
        "              \"min_child_weight\":[1, 2, 3, 5],\n",
        "              \"learning_rate\":[0.1, 0.01, 0.08, 0.5]}\n",
        "\n",
        "\n",
        "my_xgboost1 = RandomizedSearchCV(\n",
        "            estimator = XGBClassifier(),\n",
        "            param_distributions = hyperparameter_grid,\n",
        "            cv = 3,\n",
        "            n_iter=5,\n",
        "            scoring = 'neg_root_mean_squared_error',\n",
        "            n_jobs = -1,\n",
        "            verbose = 5,\n",
        "            return_train_score = True,\n",
        "            random_state=42)\n",
        "\n",
        "my_xgboost1.fit(X_train, y_train)\n",
        "print(f'best hyperparameters in each part: {my_xgboost1.best_params_}')"
      ]
    },
    {
      "cell_type": "code",
      "source": [
        "#best hyperparameters in each part: {'subsample': 0.75, 'min_child_weight': 5, 'max_depth': 2, 'learning_rate': 0.1, 'colsample_bytree': 1}\n",
        "\n",
        "new_model = XGBClassifier(subsample= 0.75, min_child_weight= 5, max_depth= 2, learning_rate= 0.1, colsample_bytree= 1)\n",
        "new_model.fit(X_train, y_train)\n",
        "\n",
        "y_pred_train = new_model.predict(X_train)\n",
        "y_pred_test = new_model.predict(X_test)"
      ],
      "metadata": {
        "id": "Nm6xhFnZZrp7"
      },
      "execution_count": null,
      "outputs": []
    },
    {
      "cell_type": "markdown",
      "metadata": {
        "id": "2kSBv8dpB5RO"
      },
      "source": [
        "### Assessing model performance using the best model from grid search\n",
        "#### Print Train Accuracy, Test Accuracy and Classification Report."
      ]
    },
    {
      "cell_type": "code",
      "execution_count": null,
      "metadata": {
        "id": "sT7AgRtDB5RO",
        "colab": {
          "base_uri": "https://localhost:8080/"
        },
        "outputId": "13fbf393-c062-4616-e9e4-ea6302ce6403"
      },
      "outputs": [
        {
          "output_type": "stream",
          "name": "stdout",
          "text": [
            "-----------------------------------train-----------------------------------\n",
            "              precision    recall  f1-score   support\n",
            "\n",
            "           0       0.83      0.77      0.80       617\n",
            "           1       0.66      0.73      0.69       371\n",
            "\n",
            "    accuracy                           0.76       988\n",
            "   macro avg       0.74      0.75      0.74       988\n",
            "weighted avg       0.76      0.76      0.76       988\n",
            "\n",
            "accuracy : 0.7550607287449392\n",
            "-----------------------------------test-----------------------------------\n",
            "              precision    recall  f1-score   support\n",
            "\n",
            "           0       0.78      0.70      0.74       320\n",
            "           1       0.61      0.70      0.65       212\n",
            "\n",
            "    accuracy                           0.70       532\n",
            "   macro avg       0.69      0.70      0.70       532\n",
            "weighted avg       0.71      0.70      0.70       532\n",
            "\n",
            "accuracy : 0.7011278195488722\n"
          ]
        }
      ],
      "source": [
        "print('-'*35 + 'train' + '-'*35)\n",
        "print(classification_report(y_pred_train, y_train))\n",
        "print(f\"accuracy : {accuracy_score(y_pred_train, y_train)}\")\n",
        "print('-'*35 + 'test' + '-'*35)\n",
        "print(classification_report(y_pred_test, y_test))\n",
        "print(f\"accuracy : {accuracy_score(y_pred_test, y_test)}\")"
      ]
    },
    {
      "cell_type": "markdown",
      "metadata": {
        "id": "BNRbwqeFB5RP"
      },
      "source": [
        "### Create the feature importances plot, plot a decision tree from the booster."
      ]
    },
    {
      "cell_type": "code",
      "execution_count": null,
      "metadata": {
        "id": "0uuAhFvPB5RP",
        "colab": {
          "base_uri": "https://localhost:8080/",
          "height": 387
        },
        "outputId": "1ab28e49-2629-4ff9-fa41-9cde8463735a"
      },
      "outputs": [
        {
          "output_type": "display_data",
          "data": {
            "text/plain": [
              "<Figure size 1200x800 with 1 Axes>"
            ],
            "image/png": "[encoded data removed]"
          },
          "metadata": {}
        }
      ],
      "source": [
        "#Create the feature importances plot\n",
        "\n",
        "important_features = new_model.feature_importances_\n",
        "\n",
        "cols = df.columns\n",
        "featuresimportance = list(zip(cols, important_features))\n",
        "\n",
        "fig = plt.figure(figsize=(12, 8))\n",
        "\n",
        "plt.barh([x[0] for x in featuresimportance],[x[1] for x in featuresimportance], height=0.6, color = 'green')\n",
        "plt.xlabel(\"Importance\")\n",
        "plt.ylabel(\"Features(Cols)\")\n",
        "\n",
        "plt.show()"
      ]
    },
    {
      "cell_type": "code",
      "source": [
        "xgb.plot_importance(new_model)\n",
        "plt.rcParams['figure.figsize'] = [6, 4]\n",
        "plt.show()"
      ],
      "metadata": {
        "colab": {
          "base_uri": "https://localhost:8080/",
          "height": 408
        },
        "id": "1MnrzvDobQJg",
        "outputId": "303f2dea-0312-4099-d487-97e9161a1b47"
      },
      "execution_count": null,
      "outputs": [
        {
          "output_type": "display_data",
          "data": {
            "text/plain": [
              "<Figure size 600x400 with 1 Axes>"
            ],
            "image/png": "[encoded data removed]"
          },
          "metadata": {}
        }
      ]
    },
    {
      "cell_type": "code",
      "source": [
        "#plot a decision tree from the booster.\n",
        "\n",
        "from xgboost import plot_tree\n",
        "import matplotlib.pyplot as plt\n",
        "plot_tree(new_model)\n",
        "plt.show()"
      ],
      "metadata": {
        "colab": {
          "base_uri": "https://localhost:8080/",
          "height": 181
        },
        "id": "ESH71_orazpO",
        "outputId": "c9127b99-8035-4437-c24a-0160b9c960e3"
      },
      "execution_count": null,
      "outputs": [
        {
          "output_type": "display_data",
          "data": {
            "text/plain": [
              "<Figure size 600x400 with 1 Axes>"
            ],
            "image/png": "[encoded data removed]"
          },
          "metadata": {}
        }
      ]
    },
    {
      "cell_type": "markdown",
      "metadata": {
        "id": "cJkzsT8rDlk5"
      },
      "source": [
        "### * Improve Model (Bonus)\n",
        "In this bonus part, you can add your ideas for improving your model's performance. You can implement your model and compare the results."
      ]
    },
    {
      "cell_type": "code",
      "execution_count": null,
      "metadata": {
        "id": "4RylEYZJDmPq",
        "colab": {
          "base_uri": "https://localhost:8080/"
        },
        "outputId": "9217eed1-471b-4509-d517-0cc76e09da3d"
      },
      "outputs": [
        {
          "output_type": "stream",
          "name": "stdout",
          "text": [
            "-----------------------------------train-----------------------------------\n",
            "              precision    recall  f1-score   support\n",
            "\n",
            "           0       0.85      0.79      0.82       705\n",
            "           1       0.70      0.77      0.74       435\n",
            "\n",
            "    accuracy                           0.79      1140\n",
            "   macro avg       0.78      0.78      0.78      1140\n",
            "weighted avg       0.79      0.79      0.79      1140\n",
            "\n",
            "accuracy : 0.7868421052631579\n",
            "-----------------------------------test-----------------------------------\n",
            "              precision    recall  f1-score   support\n",
            "\n",
            "           0       0.82      0.75      0.78       224\n",
            "           1       0.68      0.76      0.72       156\n",
            "\n",
            "    accuracy                           0.75       380\n",
            "   macro avg       0.75      0.75      0.75       380\n",
            "weighted avg       0.76      0.75      0.75       380\n",
            "\n",
            "accuracy : 0.7526315789473684\n"
          ]
        }
      ],
      "source": [
        "X2 = df.drop(['cellularity', 'primary_tumor_laterality', 'overall_survival'], axis=1)\n",
        "y2 = df['overall_survival']\n",
        "\n",
        "X_train, X_test, y_train, y_test = train_test_split(X2, y2, test_size = 0.25, random_state = 1)\n",
        "\n",
        "new_modeln = XGBClassifier(subsample= 0.75, min_child_weight= 5, max_depth= 3, learning_rate= 0.1, colsample_bytree= 1)\n",
        "new_modeln.fit(X_train, y_train)\n",
        "\n",
        "y_pred_train_n = new_modeln.predict(X_train)\n",
        "y_pred_test_n = new_modeln.predict(X_test)\n",
        "\n",
        "print('-'*35 + 'train' + '-'*35)\n",
        "print(classification_report(y_pred_train_n, y_train))\n",
        "print(f\"accuracy : {accuracy_score(y_pred_train_n, y_train)}\")\n",
        "print('-'*35 + 'test' + '-'*35)\n",
        "print(classification_report(y_pred_test_n, y_test))\n",
        "print(f\"accuracy : {accuracy_score(y_pred_test_n, y_test)}\")"
      ]
    },
    {
      "cell_type": "code",
      "source": [
        "# 5 darsad bhtar shod:)"
      ],
      "metadata": {
        "id": "5gjpWQpFfeqG"
      },
      "execution_count": null,
      "outputs": []
    },
    {
      "cell_type": "markdown",
      "metadata": {
        "id": "uP5368FF21L0"
      },
      "source": [
        "## Comparison between XGBoost and Random Forest Classifier"
      ]
    },
    {
      "cell_type": "markdown",
      "metadata": {
        "id": "b2tLkv1FEHKf"
      },
      "source": [
        "Compare the results from these two models. How Would you rate each method in terms of its performance? What's the difference between these models? explain."
      ]
    },
    {
      "cell_type": "markdown",
      "source": [
        "تقریبا عملکرد یکسانی داستند با این تفاوت که روش دوم فقط ۲ درصد بهتر عمل کرد"
      ],
      "metadata": {
        "id": "scU5RcuVgkuz"
      }
    },
    {
      "cell_type": "markdown",
      "source": [
        "- Random Forest:\n",
        "\n",
        "درخت‌های تصمیم را تولید می‌کند و پیش‌بینی‌های آن‌ها را به صورت موازی محاسبه می‌کند\n",
        "\n",
        "easier to tune\n",
        "\n",
        "\n",
        "- XGBoost:\n",
        "\n",
        "یک مدل متوالی است، به این معنی که هر درخت بعدی به نتیجه آخرین درخت وابسته است. و به همین دلیل بصورت موازی قابل انجام نیست\n",
        "\n",
        "برای داده هایی که فیپچر های کتگوریکال دارن مناسب تره\n",
        "\n",
        "برای داده هایی که بالانس نیستن مناسب تره"
      ],
      "metadata": {
        "id": "yXfMcg8OgsXq"
      }
    },
    {
      "cell_type": "code",
      "source": [],
      "metadata": {
        "id": "BP0pVgHOjhHt"
      },
      "execution_count": null,
      "outputs": []
    }
  ],
  "metadata": {
    "colab": {
      "provenance": []
    },
    "kernelspec": {
      "display_name": "Python 3",
      "language": "python",
      "name": "python3"
    },
    "language_info": {
      "codemirror_mode": {
        "name": "ipython",
        "version": 3
      },
      "file_extension": ".py",
      "mimetype": "text/x-python",
      "name": "python",
      "nbconvert_exporter": "python",
      "pygments_lexer": "ipython3",
      "version": "3.8.8"
    },
    "pycharm": {
      "stem_cell": {
        "cell_type": "raw",
        "metadata": {
          "collapsed": false
        },
        "source": []
      }
    }
  },
  "nbformat": 4,
  "nbformat_minor": 0
}