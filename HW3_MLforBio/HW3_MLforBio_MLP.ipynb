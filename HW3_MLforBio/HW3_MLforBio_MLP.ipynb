{
  "cells": [
    {
      "cell_type": "markdown",
      "metadata": {
        "id": "DM5cfA6xClp7"
      },
      "source": [
        "<img src='http://www-scf.usc.edu/~ghasemig/images/sharif.png' alt=\"SUT logo\" width=200 height=200 align=left class=\"saturate\" >\n",
        "\n",
        "<br>\n",
        "<font face=\"Times New Roman\">\n",
        "<div dir=ltr align=center>\n",
        "<font color=0F5298 size=7>\n",
        "    ML for Bioinformatics <br>\n",
        "<font color=2565AE size=5>\n",
        "    Computer Engineering Department <br>\n",
        "<font color=3C99D size=5>\n",
        "    Homework 3: Practical - Multi-Layer Perceptron (VAE) <br>\n",
        "<font color=696880 size=4>\n",
        "    Sobhan Moghimi (sobhanmoghimi45@gmail.com) <br>\n",
        "    Fakhredin Abdi (fakhredinabdi80@gmail.com) <br>\n",
        "    \n",
        "____\n"
      ]
    },
    {
      "cell_type": "markdown",
      "metadata": {
        "id": "Hnkccv8vVT-o"
      },
      "source": [
        "# Description"
      ]
    },
    {
      "cell_type": "markdown",
      "metadata": {
        "id": "A9Itv81cfTG4"
      },
      "source": [
        "**In this assignment you'll be working with Dorothea Dataset.**\n",
        "\n",
        "DOROTHEA is a drug discovery dataset. Chemical compounds represented by structural molecular features must be classified as active (binding to thrombin) or inactive.\n",
        "To find out more about dataset, refer to this link: https://archive.ics.uci.edu/ml/datasets/Dorothea\n",
        "\n",
        "You should implement a classifier with Neural Networks and for this purpose we will be using PyTorch as framework."
      ]
    },
    {
      "cell_type": "markdown",
      "metadata": {
        "id": "zqSzHiJuUh7V"
      },
      "source": [
        "# Importing libraries, modules and Dataset."
      ]
    },
    {
      "cell_type": "markdown",
      "metadata": {
        "id": "TlMDVS1gV08L"
      },
      "source": [
        "In this part, import all the libraries and modules needed to solve the problem."
      ]
    },
    {
      "cell_type": "code",
      "execution_count": null,
      "metadata": {
        "id": "WgjSY5BaViF2"
      },
      "outputs": [],
      "source": [
        "import os\n",
        "import random\n",
        "import torch\n",
        "import torch.nn as nn\n",
        "import numpy as np\n",
        "import pandas as pd\n",
        "import itertools\n",
        "import scipy.sparse as ss\n",
        "import matplotlib.pyplot as plt\n",
        "from tqdm.notebook import tqdm\n",
        "import torch.optim as optim\n",
        "from torch.utils.data import TensorDataset, DataLoader\n",
        "from sklearn.decomposition import PCA\n",
        "from sklearn import preprocessing"
      ]
    },
    {
      "cell_type": "markdown",
      "metadata": {
        "id": "RSBb23wYV2Ho"
      },
      "source": [
        "Now import the train and test data from dataset."
      ]
    },
    {
      "cell_type": "code",
      "execution_count": null,
      "metadata": {
        "id": "jNaH5szYV9Y4",
        "colab": {
          "base_uri": "https://localhost:8080/"
        },
        "outputId": "67dc4622-f8cd-4fc5-f711-cc8ab0064f6e"
      },
      "outputs": [
        {
          "output_type": "stream",
          "name": "stdout",
          "text": [
            "(800, 100001) (350, 100001) (800,) (350,)\n"
          ]
        }
      ],
      "source": [
        "# Your code here\n",
        "\n",
        "def D_data_loader(filename):\n",
        "    f = open(filename)\n",
        "    I,J = [],[]\n",
        "    for k in range(100000):\n",
        "        line = f.readline()\n",
        "        if len(line) == 0:\n",
        "            break\n",
        "        line = [int(x) for x in line.split()]\n",
        "        J.extend(line)\n",
        "        I.extend(k for i in range(len(line)))\n",
        "\n",
        "    return ss.coo_matrix((np.ones(len(I)), (I,J)))\n",
        "\n",
        "\n",
        "def D_label_loader(filename):\n",
        "    f = open(filename)\n",
        "    y = []\n",
        "    for k in range(100000):\n",
        "        line = f.readline()\n",
        "        if len(line) == 0:\n",
        "            break\n",
        "        y.append(int(line))\n",
        "    y = [0 if val == -1 else 1 for val in y] #change the -1, 1 labels to 0, 1\n",
        "    return np.array(y)\n",
        "\n",
        "X_train = D_data_loader('/content/dorothea_train.data')\n",
        "y_train = D_label_loader('/content/dorothea_train.labels')\n",
        "\n",
        "X_test= D_data_loader('/content/dorothea_valid.data')\n",
        "y_test = D_label_loader('/content/dorothea_valid.labels')\n",
        "\n",
        "print(X_train.shape, X_test.shape, y_train.shape, y_test.shape)"
      ]
    },
    {
      "cell_type": "code",
      "source": [
        "X_train = X_train.toarray()\n",
        "X_test = X_test.toarray()\n",
        "X_test.shape, X_train.shape"
      ],
      "metadata": {
        "id": "SaX2gTRpB7lS",
        "colab": {
          "base_uri": "https://localhost:8080/"
        },
        "outputId": "2269cf94-3329-4d59-81d1-d8fbc00d3b3b"
      },
      "execution_count": null,
      "outputs": [
        {
          "output_type": "execute_result",
          "data": {
            "text/plain": [
              "((350, 100001), (800, 100001))"
            ]
          },
          "metadata": {},
          "execution_count": 47
        }
      ]
    },
    {
      "cell_type": "code",
      "source": [
        "#y_train = torch.from_numpy(y_train)\n",
        "#y_train[0]\n",
        "#X_train = torch.from_numpy(X_train)\n",
        "#X_train[0]"
      ],
      "metadata": {
        "id": "XcJfPUyyCU7j"
      },
      "execution_count": null,
      "outputs": []
    },
    {
      "cell_type": "markdown",
      "metadata": {
        "id": "RgEJNhp_UiEa"
      },
      "source": [
        "## Normalize\n",
        "You can normalize your data using <code>Scikit-Learn</code> modules here."
      ]
    },
    {
      "cell_type": "code",
      "execution_count": null,
      "metadata": {
        "id": "0dwcATzQClqB"
      },
      "outputs": [],
      "source": [
        "# Apply normalization here\n",
        "StandardScaler = preprocessing.StandardScaler()\n",
        "X_train = StandardScaler.fit_transform(X_train)\n",
        "X_test = StandardScaler.fit_transform(X_test)\n",
        "#X_train[0], X_test[0]"
      ]
    },
    {
      "cell_type": "markdown",
      "metadata": {
        "id": "pQVOozI3Gjdv"
      },
      "source": [
        "## Dimensionality Reduction\n",
        "There are too many attributes for each instance of dataset. We will suffer from sparse data and long training phase. Thus you can reduce dimensions to get better accuracy.\n",
        "\n",
        "Principal component analysis (PCA) is the process of computing the principal components and using them to perform a change of basis on the data.\n",
        "\n",
        "Apply PCA on Dorothea dataSet using <code>Scikit-Learn</code>."
      ]
    },
    {
      "cell_type": "code",
      "execution_count": null,
      "metadata": {
        "id": "wrdakV-5ZsRP",
        "colab": {
          "base_uri": "https://localhost:8080/"
        },
        "outputId": "7bb6b8e3-14c0-4f20-880b-22db6cfb6a50"
      },
      "outputs": [
        {
          "output_type": "execute_result",
          "data": {
            "text/plain": [
              "((800, 350), (350, 350))"
            ]
          },
          "metadata": {},
          "execution_count": 49
        }
      ],
      "source": [
        "# Apply PCA here\n",
        "pca = PCA(n_components = 350) ##\n",
        "X_train = pca.fit_transform(X_train)\n",
        "X_test = pca.fit_transform(X_test)\n",
        "\n",
        "X_train.shape, X_test.shape"
      ]
    },
    {
      "cell_type": "markdown",
      "metadata": {
        "id": "jFTEH0H23BtL"
      },
      "source": [
        "# Define Model\n",
        "\n"
      ]
    },
    {
      "cell_type": "code",
      "source": [
        "X_train = torch.from_numpy(X_train).float()\n",
        "y_train = torch.from_numpy(y_train).float().unsqueeze(1)\n",
        "\n",
        "dataset = TensorDataset(X_train, y_train)\n",
        "train_loader = DataLoader(dataset, batch_size = 16, shuffle=True)"
      ],
      "metadata": {
        "id": "EH5GH3dum3YH"
      },
      "execution_count": null,
      "outputs": []
    },
    {
      "cell_type": "code",
      "source": [
        "#len(train_loader) * 16"
      ],
      "metadata": {
        "colab": {
          "base_uri": "https://localhost:8080/"
        },
        "id": "WtSMSlHwX7VP",
        "outputId": "656f93fc-3904-4ebe-953a-fa2e71032929"
      },
      "execution_count": null,
      "outputs": [
        {
          "output_type": "execute_result",
          "data": {
            "text/plain": [
              "800"
            ]
          },
          "metadata": {},
          "execution_count": 35
        }
      ]
    },
    {
      "cell_type": "code",
      "execution_count": null,
      "metadata": {
        "id": "1z8_ahC_3S5f",
        "colab": {
          "base_uri": "https://localhost:8080/"
        },
        "outputId": "b618b9ee-f65a-4bb5-ff96-e2fc4a91de7d"
      },
      "outputs": [
        {
          "output_type": "stream",
          "name": "stdout",
          "text": [
            "ClassifierModel(\n",
            "  (layer1): Linear(in_features=350, out_features=180, bias=True)\n",
            "  (act1): ReLU()\n",
            "  (layer2): Linear(in_features=180, out_features=120, bias=True)\n",
            "  (act2): ReLU()\n",
            "  (layer3): Linear(in_features=120, out_features=60, bias=True)\n",
            "  (act3): ReLU()\n",
            "  (output): Linear(in_features=60, out_features=1, bias=True)\n",
            "  (sigmoid): Sigmoid()\n",
            ")\n"
          ]
        }
      ],
      "source": [
        "# Define your model in here\n",
        "# You can change the code below.\n",
        "\n",
        "class ClassifierModel(nn.Module):\n",
        "    def __init__(self, input_size):\n",
        "        super(ClassifierModel, self).__init__()\n",
        "        self.layer1 = nn.Linear(input_size, 180)\n",
        "        self.act1 = nn.ReLU()\n",
        "        self.layer2 = nn.Linear(180, 120)\n",
        "        self.act2 = nn.ReLU()\n",
        "        self.layer3 = nn.Linear(120, 60)\n",
        "        self.act3 = nn.ReLU()\n",
        "        self.output = nn.Linear(60, 1)\n",
        "        self.sigmoid = nn.Sigmoid()\n",
        "\n",
        "    def forward(self, x):\n",
        "        x = self.act1(self.layer1(x))\n",
        "        x = self.act2(self.layer2(x))\n",
        "        x = self.act3(self.layer3(x))\n",
        "        x = self.sigmoid(self.output(x))\n",
        "        return x\n",
        "\n",
        "model = ClassifierModel(350)\n",
        "print(model)"
      ]
    },
    {
      "cell_type": "markdown",
      "metadata": {
        "id": "IGUFUbsw3n9A"
      },
      "source": [
        "# Train the model"
      ]
    },
    {
      "cell_type": "markdown",
      "metadata": {
        "id": "YDrS8le13n25"
      },
      "source": [
        "**Initialize model, define hyperparameters, optimizer, loss function, etc.**\n",
        "\n"
      ]
    },
    {
      "cell_type": "code",
      "source": [
        "lr = 0.001\n",
        "optimizer = torch.optim.Adam(model.parameters(), lr = lr)\n",
        "cri = nn.BCELoss()\n",
        "epochs = 35\n",
        "model.train()\n",
        "train_loss = []\n",
        "for epoch in range(epochs):\n",
        "    for data, label in train_loader:\n",
        "        y_pred = model(data)\n",
        "        loss = cri(y_pred, label)\n",
        "        optimizer.zero_grad()\n",
        "        loss.backward()\n",
        "        optimizer.step()\n",
        "    print(f\"--> Epoch #{epoch + 1}, Loss: {loss.item()}\")\n",
        "    train_loss.append(loss.item())"
      ],
      "metadata": {
        "colab": {
          "base_uri": "https://localhost:8080/"
        },
        "id": "VC_XvV1ftG2d",
        "outputId": "45992ac8-5c7f-4926-bce2-63894b56931a"
      },
      "execution_count": null,
      "outputs": [
        {
          "output_type": "stream",
          "name": "stdout",
          "text": [
            "--> Epoch #1, Loss: 0.1421893686056137\n",
            "--> Epoch #2, Loss: 0.025294596329331398\n",
            "--> Epoch #3, Loss: 0.0006346153095364571\n",
            "--> Epoch #4, Loss: 0.0001326998753938824\n",
            "--> Epoch #5, Loss: 0.0003385098825674504\n",
            "--> Epoch #6, Loss: 7.77409368311055e-05\n",
            "--> Epoch #7, Loss: 0.0004510898725129664\n",
            "--> Epoch #8, Loss: 0.00019672310736496001\n",
            "--> Epoch #9, Loss: 0.00015538664592895657\n",
            "--> Epoch #10, Loss: 2.1945177650195546e-05\n",
            "--> Epoch #11, Loss: 4.0035964048001915e-05\n",
            "--> Epoch #12, Loss: 3.9627044316148385e-05\n",
            "--> Epoch #13, Loss: 1.6509102351847105e-05\n",
            "--> Epoch #14, Loss: 2.711094930418767e-05\n",
            "--> Epoch #15, Loss: 2.4740515073062852e-05\n",
            "--> Epoch #16, Loss: 2.158284405595623e-05\n",
            "--> Epoch #17, Loss: 1.1452059879957233e-05\n",
            "--> Epoch #18, Loss: 1.3795528502669185e-05\n",
            "--> Epoch #19, Loss: 2.8034060960635543e-05\n",
            "--> Epoch #20, Loss: 2.3837186745367944e-05\n",
            "--> Epoch #21, Loss: 3.8758731534471735e-05\n",
            "--> Epoch #22, Loss: 1.0181340257986449e-05\n",
            "--> Epoch #23, Loss: 5.304988462739857e-06\n",
            "--> Epoch #24, Loss: 1.5391944543807767e-05\n",
            "--> Epoch #25, Loss: 1.2787032574124169e-05\n",
            "--> Epoch #26, Loss: 1.799162055249326e-05\n",
            "--> Epoch #27, Loss: 1.853713911259547e-05\n",
            "--> Epoch #28, Loss: 9.925129234034102e-06\n",
            "--> Epoch #29, Loss: 1.0292340448359028e-05\n",
            "--> Epoch #30, Loss: 1.477557270845864e-05\n",
            "--> Epoch #31, Loss: 1.1018169061571825e-05\n",
            "--> Epoch #32, Loss: 7.417382221319713e-06\n",
            "--> Epoch #33, Loss: 6.870611741760513e-06\n",
            "--> Epoch #34, Loss: 8.660724233777728e-06\n",
            "--> Epoch #35, Loss: 3.452920282143168e-06\n"
          ]
        }
      ]
    },
    {
      "cell_type": "markdown",
      "metadata": {
        "id": "L2Fnamnk4LTV"
      },
      "source": [
        "**After the training process, plot metrics such as loss function values.**"
      ]
    },
    {
      "cell_type": "code",
      "execution_count": null,
      "metadata": {
        "id": "3br2A_3x7tLY",
        "colab": {
          "base_uri": "https://localhost:8080/",
          "height": 472
        },
        "outputId": "83540bff-f2b0-4a67-c6e0-0ceb3084d371"
      },
      "outputs": [
        {
          "output_type": "display_data",
          "data": {
            "text/plain": [
              "<Figure size 640x480 with 1 Axes>"
            ],
            "image/png": "[encoded data removed]"
          },
          "metadata": {}
        }
      ],
      "source": [
        "# Plot in here\n",
        "plt.plot(train_loss)\n",
        "plt.xlabel('Num of Epoch')\n",
        "plt.ylabel('Our Model Loss')\n",
        "plt.title('Training Loss')\n",
        "plt.show()"
      ]
    },
    {
      "cell_type": "markdown",
      "metadata": {
        "id": "vbwXdL9Ph2jD"
      },
      "source": [
        "# Testing\n",
        "After training, test your model on test dataset and compute performance metrics."
      ]
    },
    {
      "cell_type": "code",
      "source": [
        "X_test = torch.from_numpy(X_test).float()\n",
        "y_test = torch.from_numpy(y_test).float().unsqueeze(1)\n",
        "\n",
        "dataset = TensorDataset(X_test, y_test)\n",
        "test_loader = DataLoader(dataset, batch_size = 16, shuffle=True)"
      ],
      "metadata": {
        "id": "l90B4PPL5az0"
      },
      "execution_count": null,
      "outputs": []
    },
    {
      "cell_type": "code",
      "source": [
        "# Implement Test in here\n",
        "\n",
        "y_pred = []\n",
        "model.eval()\n",
        "\n",
        "with torch.no_grad():\n",
        "    for data, label in test_loader:\n",
        "        y_test_pred = model(data)\n",
        "        y_pred_ = torch.round(y_test_pred)\n",
        "        y_pred.append(y_pred_.detach().cpu().numpy().tolist())\n",
        "\n",
        "y_test_pred = list(itertools.chain.from_iterable(y_pred))"
      ],
      "metadata": {
        "id": "ZUpdJD0-ZhRT"
      },
      "execution_count": null,
      "outputs": []
    },
    {
      "cell_type": "markdown",
      "metadata": {
        "id": "vqQpZsTEh2gL"
      },
      "source": [
        "Show confusion matrix of your model."
      ]
    },
    {
      "cell_type": "code",
      "execution_count": null,
      "metadata": {
        "id": "Kl9VOLgdiFMg",
        "colab": {
          "base_uri": "https://localhost:8080/",
          "height": 487
        },
        "outputId": "1c4d52a4-3c21-4b03-ebc1-ee3afa537072"
      },
      "outputs": [
        {
          "output_type": "display_data",
          "data": {
            "text/plain": [
              "<Figure size 640x480 with 2 Axes>"
            ],
            "image/png": "[encoded data removed]"
          },
          "metadata": {}
        }
      ],
      "source": [
        "# Print your confusion matrix here.\n",
        "\n",
        "from sklearn.metrics import confusion_matrix\n",
        "\n",
        "y_pred = np.array(y_test_pred)\n",
        "y_test = y_test.numpy().squeeze()\n",
        "\n",
        "confusion_matrix = confusion_matrix(y_test, y_pred)\n",
        "labels = ['0', '1']\n",
        "\n",
        "plt.imshow(confusion_matrix)\n",
        "plt.colorbar()\n",
        "tick_marks = np.arange(len(labels))\n",
        "plt.xticks(tick_marks, labels)\n",
        "plt.yticks(tick_marks, labels)\n",
        "\n",
        "for i, j in itertools.product(range(confusion_matrix.shape[0]), range(confusion_matrix.shape[1])):\n",
        "    plt.text(j, i, format(confusion_matrix[i, j], 'd'))\n",
        "\n",
        "plt.xlabel('Predicted Label')\n",
        "plt.ylabel('True Label')\n",
        "plt.tight_layout()\n",
        "plt.show()"
      ]
    },
    {
      "cell_type": "code",
      "source": [
        "y_pred[1:20].squeeze(), y_test[1:20]"
      ],
      "metadata": {
        "colab": {
          "base_uri": "https://localhost:8080/"
        },
        "id": "At8cOGFy52PC",
        "outputId": "05a9aefe-60f6-4e6a-9f7a-b7600d7db163"
      },
      "execution_count": null,
      "outputs": [
        {
          "output_type": "execute_result",
          "data": {
            "text/plain": [
              "(array([0., 0., 0., 0., 0., 0., 0., 1., 0., 0., 0., 0., 0., 0., 1., 0., 0.,\n",
              "        0., 0.]),\n",
              " array([0., 1., 0., 0., 0., 0., 0., 0., 0., 0., 1., 0., 0., 0., 0., 0., 0.,\n",
              "        0., 0.], dtype=float32))"
            ]
          },
          "metadata": {},
          "execution_count": 58
        }
      ]
    },
    {
      "cell_type": "code",
      "source": [
        "from sklearn.metrics import accuracy_score\n",
        "\n",
        "model_accuracy = accuracy_score(y_test, y_pred)*100\n",
        "print(f\"Our model accuracy is: {model_accuracy} %\")"
      ],
      "metadata": {
        "colab": {
          "base_uri": "https://localhost:8080/"
        },
        "id": "eZ1XJPhXy8-R",
        "outputId": "8c5797e0-829f-40dd-fd15-ea65f95f4c81"
      },
      "execution_count": null,
      "outputs": [
        {
          "output_type": "stream",
          "name": "stdout",
          "text": [
            "Our model accuracy is: 82.0 %\n"
          ]
        }
      ]
    }
  ],
  "metadata": {
    "colab": {
      "provenance": []
    },
    "kernelspec": {
      "display_name": "Python 3",
      "language": "python",
      "name": "python3"
    },
    "language_info": {
      "codemirror_mode": {
        "name": "ipython",
        "version": 3
      },
      "file_extension": ".py",
      "mimetype": "text/x-python",
      "name": "python",
      "nbconvert_exporter": "python",
      "pygments_lexer": "ipython3",
      "version": "3.8.8"
    }
  },
  "nbformat": 4,
  "nbformat_minor": 0
}